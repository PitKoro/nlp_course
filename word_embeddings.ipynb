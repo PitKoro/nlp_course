{
 "cells": [
  {
   "cell_type": "markdown",
   "metadata": {},
   "source": [
    "# Реализация Word2Vec\n",
    "\n",
    "По центральному слову будем предсказывать контекстное."
   ]
  },
  {
   "cell_type": "code",
   "execution_count": 1,
   "metadata": {},
   "outputs": [],
   "source": [
    "\n",
    "\n",
    "text = '''\n",
    "Кошки и собаки – это домашние животные, которые имеют много общего, но при этом существенно отличаются друг от друга.\n",
    "Кошки обычно ведут ночной образ жизни, они независимы, осторожны и любят уединение. Кошачьи любят лазать по деревьям, точить когти и охотиться на мелкую добычу, такую как мыши или птицы. В поведении кошек заметна грация, ловкость и скрытность. Мяукание, мурлыканье и шипение – типичные звуки, издаваемые кошками.\n",
    "Собаки, напротив, активны днём, отличаются преданностью, игривостью и стремлением к общению с человеком. Они обожают прогулки, игры с палкой или мячом и легко поддаются дрессировке. В поведении собак преобладает открытость, дружелюбие и послушание. Собаки умеют лаять, рычать и выть, выражая таким образом свои эмоции.\n",
    "С точки зрения ухода, кошки более самостоятельны: они сами ухаживают за своей шерстью и редко нуждаются в купании. Собаки же требуют регулярного ухода, расчесывания, прогулок и большего внимания со стороны человека.\n",
    "Питание собак и кошек также отличается. Собаки всеядны, но им необходимо получать достаточное количество мяса, круп и овощей. Кошки являются преимущественно хищниками и нуждаются в мясе как основном источнике пищи.\n",
    "Таким образом, кошки и собаки – близкие, но при этом разные животные, каждое со своими уникальными особенностями поведения, ухода и питания.\n",
    "'''\n"
   ]
  },
  {
   "cell_type": "code",
   "execution_count": 2,
   "metadata": {},
   "outputs": [
    {
     "name": "stderr",
     "output_type": "stream",
     "text": [
      "[nltk_data] Downloading package stopwords to\n",
      "[nltk_data]     /Users/pakorolev/nltk_data...\n",
      "[nltk_data]   Package stopwords is already up-to-date!\n"
     ]
    }
   ],
   "source": [
    "import nltk\n",
    "nltk.download('stopwords')\n",
    "\n",
    "from nltk.corpus import stopwords\n",
    "from nltk.tokenize import RegexpTokenizer\n"
   ]
  },
  {
   "cell_type": "code",
   "execution_count": 3,
   "metadata": {},
   "outputs": [],
   "source": [
    "word_tokenizer = RegexpTokenizer(r'\\w+')"
   ]
  },
  {
   "cell_type": "code",
   "execution_count": 4,
   "metadata": {},
   "outputs": [
    {
     "name": "stdout",
     "output_type": "stream",
     "text": [
      "['Кошки', 'собаки', 'это', 'домашние', 'животные', 'которые', 'имеют', 'общего', 'существенно', 'отличаются']\n"
     ]
    },
    {
     "data": {
      "text/plain": [
       "144"
      ]
     },
     "execution_count": 4,
     "metadata": {},
     "output_type": "execute_result"
    }
   ],
   "source": [
    "tokens = word_tokenizer.tokenize(text)\n",
    "tokens = [token for token in tokens if token not in stopwords.words('russian')]\n",
    "print(tokens[:10])\n",
    "len(tokens)"
   ]
  },
  {
   "cell_type": "code",
   "execution_count": 5,
   "metadata": {},
   "outputs": [],
   "source": [
    "def mapping(tokens):\n",
    "    \"\"\"вспомогательная функция для создания словарей word_to_id, id_to_word\"\"\"\n",
    "    word_to_id = {}\n",
    "    id_to_word = {}\n",
    "    for i, token in enumerate(set(tokens)):# проходимся только по уникальным словам\n",
    "        word_to_id[token] = i\n",
    "        id_to_word[i] = token\n",
    "    return word_to_id, id_to_word"
   ]
  },
  {
   "cell_type": "code",
   "execution_count": 6,
   "metadata": {},
   "outputs": [],
   "source": [
    "word_to_id, id_to_word = mapping(tokens)\n"
   ]
  },
  {
   "cell_type": "code",
   "execution_count": 7,
   "metadata": {},
   "outputs": [
    {
     "data": {
      "text/plain": [
       "(126, 126)"
      ]
     },
     "execution_count": 7,
     "metadata": {},
     "output_type": "execute_result"
    }
   ],
   "source": [
    "(len(word_to_id), len(id_to_word))"
   ]
  },
  {
   "cell_type": "markdown",
   "metadata": {},
   "source": [
    "из текста мы хотим создать обучающую выборку вида:\n",
    "```python\n",
    "[\n",
    "    [\"Кошки\", \"собаки\"],\n",
    "    [\"Кошки\", \"это\"],\n",
    "    [\"собаки\", \"Кошки],\n",
    "    [\"собаки\", \"это],\n",
    "    [\"собаки\", \"домашние\"],\n",
    "    ...\n",
    "]\n",
    "```"
   ]
  },
  {
   "cell_type": "code",
   "execution_count": 8,
   "metadata": {},
   "outputs": [],
   "source": [
    "import numpy as np\n",
    "np.random.seed(42)\n",
    "\n",
    "def concat(*iterables):\n",
    "    \"\"\"\n",
    "    вспомогательная функция для создания списка индексов токенов, использующихся в контексте\n",
    "    для централього слова с индексом 3 и окном 2 список индексов будет [1,2,3,4,5]\n",
    "    \"\"\"\n",
    "    for iterable in iterables:\n",
    "        yield from iterable\n",
    "\n",
    "def one_hot_encode(id, vocab_size):\n",
    "    \"\"\"One-Hot кодирование токена\"\"\"\n",
    "    res = [0] * vocab_size\n",
    "    res[id] = 1\n",
    "    return res\n",
    "\n",
    "def generate_training_data(tokens, word_to_id, window_size):\n",
    "    X = []\n",
    "    y = []\n",
    "    n_tokens = len(tokens)\n",
    "    for i in range(n_tokens):\n",
    "        idx = concat(\n",
    "            range(max(0, i - window_size), i), # индексы токенов слева от центрального токена\n",
    "            range(i, min(n_tokens, i + window_size + 1)) # индексы токенов справа от центрального токена\n",
    "        )\n",
    "        for j in idx:\n",
    "            if i == j:\n",
    "                continue# в датасет не добавляем пару (центральное слово, центральное слово)\n",
    "            X.append(one_hot_encode(word_to_id[tokens[i]], len(word_to_id))) # one-hot центральное слово\n",
    "            y.append(one_hot_encode(word_to_id[tokens[j]], len(word_to_id))) # one-hot слово-контекст\n",
    "    return np.array(X), np.array(y)"
   ]
  },
  {
   "cell_type": "code",
   "execution_count": 9,
   "metadata": {},
   "outputs": [],
   "source": [
    "# генерация датасета с окном 2\n",
    "X, y = generate_training_data(tokens, word_to_id, 2)"
   ]
  },
  {
   "cell_type": "code",
   "execution_count": 10,
   "metadata": {},
   "outputs": [
    {
     "data": {
      "text/plain": [
       "((570, 126), (570, 126))"
      ]
     },
     "execution_count": 10,
     "metadata": {},
     "output_type": "execute_result"
    }
   ],
   "source": [
    "X.shape, y.shape"
   ]
  },
  {
   "cell_type": "markdown",
   "metadata": {},
   "source": [
    "## Word2Vec Model\n",
    "\n",
    "![](imgs/word2vec_arch.jpg)"
   ]
  },
  {
   "cell_type": "code",
   "execution_count": 11,
   "metadata": {},
   "outputs": [],
   "source": [
    "def init_network(vocab_size, dim_embedding):\n",
    "    model = {\n",
    "        \"W1\": np.random.randn(vocab_size, dim_embedding),\n",
    "        \"W2\": np.random.randn(dim_embedding, vocab_size)\n",
    "    }\n",
    "    return model"
   ]
  },
  {
   "cell_type": "code",
   "execution_count": 12,
   "metadata": {},
   "outputs": [],
   "source": [
    "model = init_network(len(word_to_id), 300)"
   ]
  },
  {
   "cell_type": "code",
   "execution_count": 13,
   "metadata": {},
   "outputs": [
    {
     "data": {
      "text/plain": [
       "((126, 300), (300, 126))"
      ]
     },
     "execution_count": 13,
     "metadata": {},
     "output_type": "execute_result"
    }
   ],
   "source": [
    "model[\"W1\"].shape, model[\"W2\"].shape"
   ]
  },
  {
   "cell_type": "code",
   "execution_count": 14,
   "metadata": {},
   "outputs": [],
   "source": [
    "def softmax(X):\n",
    "    res = []\n",
    "    for x in X:\n",
    "        exp = np.exp(x)\n",
    "        res.append(exp / exp.sum())\n",
    "    return res\n",
    "\n",
    "def forward(model, X, return_cache=True):\n",
    "    cache = {}\n",
    "    \n",
    "    cache[\"embeddings\"] = X @ model[\"W1\"]\n",
    "    cache[\"logits\"] = cache[\"embeddings\"] @ model[\"W2\"]\n",
    "    cache[\"probs\"] = softmax(cache[\"logits\"])\n",
    "    \n",
    "    if not return_cache:\n",
    "        return cache[\"probs\"]\n",
    "    return cache"
   ]
  },
  {
   "cell_type": "code",
   "execution_count": 15,
   "metadata": {},
   "outputs": [
    {
     "data": {
      "text/plain": [
       "array([0, 0, 0, 0, 0, 0, 0, 0, 0, 0, 0, 0, 0, 0, 0, 0, 0, 0, 0, 0, 0, 0,\n",
       "       0, 0, 0, 1, 0, 0, 0, 0, 0, 0, 0, 0, 0, 0, 0, 0, 0, 0, 0, 0, 0, 0,\n",
       "       0, 0, 0, 0, 0, 0, 0, 0, 0, 0, 0, 0, 0, 0, 0, 0, 0, 0, 0, 0, 0, 0,\n",
       "       0, 0, 0, 0, 0, 0, 0, 0, 0, 0, 0, 0, 0, 0, 0, 0, 0, 0, 0, 0, 0, 0,\n",
       "       0, 0, 0, 0, 0, 0, 0, 0, 0, 0, 0, 0, 0, 0, 0, 0, 0, 0, 0, 0, 0, 0,\n",
       "       0, 0, 0, 0, 0, 0, 0, 0, 0, 0, 0, 0, 0, 0, 0, 0])"
      ]
     },
     "execution_count": 15,
     "metadata": {},
     "output_type": "execute_result"
    }
   ],
   "source": [
    "X[0]"
   ]
  },
  {
   "cell_type": "code",
   "execution_count": 16,
   "metadata": {},
   "outputs": [
    {
     "data": {
      "text/plain": [
       "(570, 300)"
      ]
     },
     "execution_count": 16,
     "metadata": {},
     "output_type": "execute_result"
    }
   ],
   "source": [
    "(X @ model[\"W1\"]).shape"
   ]
  },
  {
   "cell_type": "code",
   "execution_count": 17,
   "metadata": {},
   "outputs": [
    {
     "data": {
      "text/plain": [
       "(570, 126)"
      ]
     },
     "execution_count": 17,
     "metadata": {},
     "output_type": "execute_result"
    }
   ],
   "source": [
    "(X @ model[\"W1\"] @ model[\"W2\"]).shape"
   ]
  },
  {
   "cell_type": "code",
   "execution_count": 18,
   "metadata": {},
   "outputs": [],
   "source": [
    "def cross_entropy(z, y):\n",
    "    return - np.sum(np.log(z) * y)\n",
    "\n",
    "def backward(model, X, y, lr):\n",
    "    # https://www.youtube.com/watch?v=bW4dKxtUFpg\n",
    "    cache  = forward(model, X)\n",
    "    dE_dlogits = cache[\"probs\"] - y # градиент функции ошибки по выходу классификатора, частная производная кросс энтропии это [softmax(logits) - y]\n",
    "    dE_dW_2 = cache[\"embeddings\"].T @ dE_dlogits\n",
    "    dE_demb = dE_dlogits @ model[\"W2\"].T\n",
    "    dE_dW_1 = X.T @ dE_demb\n",
    "    assert(dE_dW_2.shape == model[\"W2\"].shape)\n",
    "    assert(dE_dW_1.shape == model[\"W1\"].shape)\n",
    "    model[\"W1\"] -= lr * dE_dW_1\n",
    "    model[\"W2\"] -= lr * dE_dW_2\n",
    "    return cross_entropy(cache[\"probs\"], y)"
   ]
  },
  {
   "cell_type": "code",
   "execution_count": 19,
   "metadata": {},
   "outputs": [
    {
     "data": {
      "image/svg+xml": [
       "<?xml version=\"1.0\" encoding=\"utf-8\" standalone=\"no\"?>\n",
       "<!DOCTYPE svg PUBLIC \"-//W3C//DTD SVG 1.1//EN\"\n",
       "  \"http://www.w3.org/Graphics/SVG/1.1/DTD/svg11.dtd\">\n",
       "<svg xmlns:xlink=\"http://www.w3.org/1999/xlink\" width=\"410.3325pt\" height=\"297.190125pt\" viewBox=\"0 0 410.3325 297.190125\" xmlns=\"http://www.w3.org/2000/svg\" version=\"1.1\">\n",
       " <metadata>\n",
       "  <rdf:RDF xmlns:dc=\"http://purl.org/dc/elements/1.1/\" xmlns:cc=\"http://creativecommons.org/ns#\" xmlns:rdf=\"http://www.w3.org/1999/02/22-rdf-syntax-ns#\">\n",
       "   <cc:Work>\n",
       "    <dc:type rdf:resource=\"http://purl.org/dc/dcmitype/StillImage\"/>\n",
       "    <dc:date>2025-03-09T16:45:21.342778</dc:date>\n",
       "    <dc:format>image/svg+xml</dc:format>\n",
       "    <dc:creator>\n",
       "     <cc:Agent>\n",
       "      <dc:title>Matplotlib v3.10.1, https://matplotlib.org/</dc:title>\n",
       "     </cc:Agent>\n",
       "    </dc:creator>\n",
       "   </cc:Work>\n",
       "  </rdf:RDF>\n",
       " </metadata>\n",
       " <defs>\n",
       "  <style type=\"text/css\">*{stroke-linejoin: round; stroke-linecap: butt}</style>\n",
       " </defs>\n",
       " <g id=\"figure_1\">\n",
       "  <g id=\"patch_1\">\n",
       "   <path d=\"M 0 297.190125 \n",
       "L 410.3325 297.190125 \n",
       "L 410.3325 0 \n",
       "L 0 0 \n",
       "z\n",
       "\" style=\"fill: #ffffff\"/>\n",
       "  </g>\n",
       "  <g id=\"axes_1\">\n",
       "   <g id=\"patch_2\">\n",
       "    <path d=\"M 46.0125 273.312 \n",
       "L 403.1325 273.312 \n",
       "L 403.1325 7.2 \n",
       "L 46.0125 7.2 \n",
       "z\n",
       "\" style=\"fill: #ffffff\"/>\n",
       "   </g>\n",
       "   <g id=\"matplotlib.axis_1\">\n",
       "    <g id=\"xtick_1\">\n",
       "     <g id=\"line2d_1\">\n",
       "      <defs>\n",
       "       <path id=\"m2962888312\" d=\"M 0 0 \n",
       "L 0 3.5 \n",
       "\" style=\"stroke: #000000; stroke-width: 0.8\"/>\n",
       "      </defs>\n",
       "      <g>\n",
       "       <use xlink:href=\"#m2962888312\" x=\"62.245227\" y=\"273.312\" style=\"stroke: #000000; stroke-width: 0.8\"/>\n",
       "      </g>\n",
       "     </g>\n",
       "     <g id=\"text_1\">\n",
       "      <!-- 0 -->\n",
       "      <g transform=\"translate(59.063977 287.910437) scale(0.1 -0.1)\">\n",
       "       <defs>\n",
       "        <path id=\"DejaVuSans-30\" d=\"M 2034 4250 \n",
       "Q 1547 4250 1301 3770 \n",
       "Q 1056 3291 1056 2328 \n",
       "Q 1056 1369 1301 889 \n",
       "Q 1547 409 2034 409 \n",
       "Q 2525 409 2770 889 \n",
       "Q 3016 1369 3016 2328 \n",
       "Q 3016 3291 2770 3770 \n",
       "Q 2525 4250 2034 4250 \n",
       "z\n",
       "M 2034 4750 \n",
       "Q 2819 4750 3233 4129 \n",
       "Q 3647 3509 3647 2328 \n",
       "Q 3647 1150 3233 529 \n",
       "Q 2819 -91 2034 -91 \n",
       "Q 1250 -91 836 529 \n",
       "Q 422 1150 422 2328 \n",
       "Q 422 3509 836 4129 \n",
       "Q 1250 4750 2034 4750 \n",
       "z\n",
       "\" transform=\"scale(0.015625)\"/>\n",
       "       </defs>\n",
       "       <use xlink:href=\"#DejaVuSans-30\"/>\n",
       "      </g>\n",
       "     </g>\n",
       "    </g>\n",
       "    <g id=\"xtick_2\">\n",
       "     <g id=\"line2d_2\">\n",
       "      <g>\n",
       "       <use xlink:href=\"#m2962888312\" x=\"127.436903\" y=\"273.312\" style=\"stroke: #000000; stroke-width: 0.8\"/>\n",
       "      </g>\n",
       "     </g>\n",
       "     <g id=\"text_2\">\n",
       "      <!-- 50 -->\n",
       "      <g transform=\"translate(121.074403 287.910437) scale(0.1 -0.1)\">\n",
       "       <defs>\n",
       "        <path id=\"DejaVuSans-35\" d=\"M 691 4666 \n",
       "L 3169 4666 \n",
       "L 3169 4134 \n",
       "L 1269 4134 \n",
       "L 1269 2991 \n",
       "Q 1406 3038 1543 3061 \n",
       "Q 1681 3084 1819 3084 \n",
       "Q 2600 3084 3056 2656 \n",
       "Q 3513 2228 3513 1497 \n",
       "Q 3513 744 3044 326 \n",
       "Q 2575 -91 1722 -91 \n",
       "Q 1428 -91 1123 -41 \n",
       "Q 819 9 494 109 \n",
       "L 494 744 \n",
       "Q 775 591 1075 516 \n",
       "Q 1375 441 1709 441 \n",
       "Q 2250 441 2565 725 \n",
       "Q 2881 1009 2881 1497 \n",
       "Q 2881 1984 2565 2268 \n",
       "Q 2250 2553 1709 2553 \n",
       "Q 1456 2553 1204 2497 \n",
       "Q 953 2441 691 2322 \n",
       "L 691 4666 \n",
       "z\n",
       "\" transform=\"scale(0.015625)\"/>\n",
       "       </defs>\n",
       "       <use xlink:href=\"#DejaVuSans-35\"/>\n",
       "       <use xlink:href=\"#DejaVuSans-30\" transform=\"translate(63.623047 0)\"/>\n",
       "      </g>\n",
       "     </g>\n",
       "    </g>\n",
       "    <g id=\"xtick_3\">\n",
       "     <g id=\"line2d_3\">\n",
       "      <g>\n",
       "       <use xlink:href=\"#m2962888312\" x=\"192.628579\" y=\"273.312\" style=\"stroke: #000000; stroke-width: 0.8\"/>\n",
       "      </g>\n",
       "     </g>\n",
       "     <g id=\"text_3\">\n",
       "      <!-- 100 -->\n",
       "      <g transform=\"translate(183.084829 287.910437) scale(0.1 -0.1)\">\n",
       "       <defs>\n",
       "        <path id=\"DejaVuSans-31\" d=\"M 794 531 \n",
       "L 1825 531 \n",
       "L 1825 4091 \n",
       "L 703 3866 \n",
       "L 703 4441 \n",
       "L 1819 4666 \n",
       "L 2450 4666 \n",
       "L 2450 531 \n",
       "L 3481 531 \n",
       "L 3481 0 \n",
       "L 794 0 \n",
       "L 794 531 \n",
       "z\n",
       "\" transform=\"scale(0.015625)\"/>\n",
       "       </defs>\n",
       "       <use xlink:href=\"#DejaVuSans-31\"/>\n",
       "       <use xlink:href=\"#DejaVuSans-30\" transform=\"translate(63.623047 0)\"/>\n",
       "       <use xlink:href=\"#DejaVuSans-30\" transform=\"translate(127.246094 0)\"/>\n",
       "      </g>\n",
       "     </g>\n",
       "    </g>\n",
       "    <g id=\"xtick_4\">\n",
       "     <g id=\"line2d_4\">\n",
       "      <g>\n",
       "       <use xlink:href=\"#m2962888312\" x=\"257.820255\" y=\"273.312\" style=\"stroke: #000000; stroke-width: 0.8\"/>\n",
       "      </g>\n",
       "     </g>\n",
       "     <g id=\"text_4\">\n",
       "      <!-- 150 -->\n",
       "      <g transform=\"translate(248.276505 287.910437) scale(0.1 -0.1)\">\n",
       "       <use xlink:href=\"#DejaVuSans-31\"/>\n",
       "       <use xlink:href=\"#DejaVuSans-35\" transform=\"translate(63.623047 0)\"/>\n",
       "       <use xlink:href=\"#DejaVuSans-30\" transform=\"translate(127.246094 0)\"/>\n",
       "      </g>\n",
       "     </g>\n",
       "    </g>\n",
       "    <g id=\"xtick_5\">\n",
       "     <g id=\"line2d_5\">\n",
       "      <g>\n",
       "       <use xlink:href=\"#m2962888312\" x=\"323.01193\" y=\"273.312\" style=\"stroke: #000000; stroke-width: 0.8\"/>\n",
       "      </g>\n",
       "     </g>\n",
       "     <g id=\"text_5\">\n",
       "      <!-- 200 -->\n",
       "      <g transform=\"translate(313.46818 287.910437) scale(0.1 -0.1)\">\n",
       "       <defs>\n",
       "        <path id=\"DejaVuSans-32\" d=\"M 1228 531 \n",
       "L 3431 531 \n",
       "L 3431 0 \n",
       "L 469 0 \n",
       "L 469 531 \n",
       "Q 828 903 1448 1529 \n",
       "Q 2069 2156 2228 2338 \n",
       "Q 2531 2678 2651 2914 \n",
       "Q 2772 3150 2772 3378 \n",
       "Q 2772 3750 2511 3984 \n",
       "Q 2250 4219 1831 4219 \n",
       "Q 1534 4219 1204 4116 \n",
       "Q 875 4013 500 3803 \n",
       "L 500 4441 \n",
       "Q 881 4594 1212 4672 \n",
       "Q 1544 4750 1819 4750 \n",
       "Q 2544 4750 2975 4387 \n",
       "Q 3406 4025 3406 3419 \n",
       "Q 3406 3131 3298 2873 \n",
       "Q 3191 2616 2906 2266 \n",
       "Q 2828 2175 2409 1742 \n",
       "Q 1991 1309 1228 531 \n",
       "z\n",
       "\" transform=\"scale(0.015625)\"/>\n",
       "       </defs>\n",
       "       <use xlink:href=\"#DejaVuSans-32\"/>\n",
       "       <use xlink:href=\"#DejaVuSans-30\" transform=\"translate(63.623047 0)\"/>\n",
       "       <use xlink:href=\"#DejaVuSans-30\" transform=\"translate(127.246094 0)\"/>\n",
       "      </g>\n",
       "     </g>\n",
       "    </g>\n",
       "    <g id=\"xtick_6\">\n",
       "     <g id=\"line2d_6\">\n",
       "      <g>\n",
       "       <use xlink:href=\"#m2962888312\" x=\"388.203606\" y=\"273.312\" style=\"stroke: #000000; stroke-width: 0.8\"/>\n",
       "      </g>\n",
       "     </g>\n",
       "     <g id=\"text_6\">\n",
       "      <!-- 250 -->\n",
       "      <g transform=\"translate(378.659856 287.910437) scale(0.1 -0.1)\">\n",
       "       <use xlink:href=\"#DejaVuSans-32\"/>\n",
       "       <use xlink:href=\"#DejaVuSans-35\" transform=\"translate(63.623047 0)\"/>\n",
       "       <use xlink:href=\"#DejaVuSans-30\" transform=\"translate(127.246094 0)\"/>\n",
       "      </g>\n",
       "     </g>\n",
       "    </g>\n",
       "   </g>\n",
       "   <g id=\"matplotlib.axis_2\">\n",
       "    <g id=\"ytick_1\">\n",
       "     <g id=\"line2d_7\">\n",
       "      <defs>\n",
       "       <path id=\"m1a62432959\" d=\"M 0 0 \n",
       "L -3.5 0 \n",
       "\" style=\"stroke: #000000; stroke-width: 0.8\"/>\n",
       "      </defs>\n",
       "      <g>\n",
       "       <use xlink:href=\"#m1a62432959\" x=\"46.0125\" y=\"269.727163\" style=\"stroke: #000000; stroke-width: 0.8\"/>\n",
       "      </g>\n",
       "     </g>\n",
       "     <g id=\"text_7\">\n",
       "      <!-- 0 -->\n",
       "      <g transform=\"translate(32.65 273.526382) scale(0.1 -0.1)\">\n",
       "       <use xlink:href=\"#DejaVuSans-30\"/>\n",
       "      </g>\n",
       "     </g>\n",
       "    </g>\n",
       "    <g id=\"ytick_2\">\n",
       "     <g id=\"line2d_8\">\n",
       "      <g>\n",
       "       <use xlink:href=\"#m1a62432959\" x=\"46.0125\" y=\"221.740298\" style=\"stroke: #000000; stroke-width: 0.8\"/>\n",
       "      </g>\n",
       "     </g>\n",
       "     <g id=\"text_8\">\n",
       "      <!-- 5000 -->\n",
       "      <g transform=\"translate(13.5625 225.539517) scale(0.1 -0.1)\">\n",
       "       <use xlink:href=\"#DejaVuSans-35\"/>\n",
       "       <use xlink:href=\"#DejaVuSans-30\" transform=\"translate(63.623047 0)\"/>\n",
       "       <use xlink:href=\"#DejaVuSans-30\" transform=\"translate(127.246094 0)\"/>\n",
       "       <use xlink:href=\"#DejaVuSans-30\" transform=\"translate(190.869141 0)\"/>\n",
       "      </g>\n",
       "     </g>\n",
       "    </g>\n",
       "    <g id=\"ytick_3\">\n",
       "     <g id=\"line2d_9\">\n",
       "      <g>\n",
       "       <use xlink:href=\"#m1a62432959\" x=\"46.0125\" y=\"173.753433\" style=\"stroke: #000000; stroke-width: 0.8\"/>\n",
       "      </g>\n",
       "     </g>\n",
       "     <g id=\"text_9\">\n",
       "      <!-- 10000 -->\n",
       "      <g transform=\"translate(7.2 177.552651) scale(0.1 -0.1)\">\n",
       "       <use xlink:href=\"#DejaVuSans-31\"/>\n",
       "       <use xlink:href=\"#DejaVuSans-30\" transform=\"translate(63.623047 0)\"/>\n",
       "       <use xlink:href=\"#DejaVuSans-30\" transform=\"translate(127.246094 0)\"/>\n",
       "       <use xlink:href=\"#DejaVuSans-30\" transform=\"translate(190.869141 0)\"/>\n",
       "       <use xlink:href=\"#DejaVuSans-30\" transform=\"translate(254.492188 0)\"/>\n",
       "      </g>\n",
       "     </g>\n",
       "    </g>\n",
       "    <g id=\"ytick_4\">\n",
       "     <g id=\"line2d_10\">\n",
       "      <g>\n",
       "       <use xlink:href=\"#m1a62432959\" x=\"46.0125\" y=\"125.766568\" style=\"stroke: #000000; stroke-width: 0.8\"/>\n",
       "      </g>\n",
       "     </g>\n",
       "     <g id=\"text_10\">\n",
       "      <!-- 15000 -->\n",
       "      <g transform=\"translate(7.2 129.565786) scale(0.1 -0.1)\">\n",
       "       <use xlink:href=\"#DejaVuSans-31\"/>\n",
       "       <use xlink:href=\"#DejaVuSans-35\" transform=\"translate(63.623047 0)\"/>\n",
       "       <use xlink:href=\"#DejaVuSans-30\" transform=\"translate(127.246094 0)\"/>\n",
       "       <use xlink:href=\"#DejaVuSans-30\" transform=\"translate(190.869141 0)\"/>\n",
       "       <use xlink:href=\"#DejaVuSans-30\" transform=\"translate(254.492188 0)\"/>\n",
       "      </g>\n",
       "     </g>\n",
       "    </g>\n",
       "    <g id=\"ytick_5\">\n",
       "     <g id=\"line2d_11\">\n",
       "      <g>\n",
       "       <use xlink:href=\"#m1a62432959\" x=\"46.0125\" y=\"77.779703\" style=\"stroke: #000000; stroke-width: 0.8\"/>\n",
       "      </g>\n",
       "     </g>\n",
       "     <g id=\"text_11\">\n",
       "      <!-- 20000 -->\n",
       "      <g transform=\"translate(7.2 81.578921) scale(0.1 -0.1)\">\n",
       "       <use xlink:href=\"#DejaVuSans-32\"/>\n",
       "       <use xlink:href=\"#DejaVuSans-30\" transform=\"translate(63.623047 0)\"/>\n",
       "       <use xlink:href=\"#DejaVuSans-30\" transform=\"translate(127.246094 0)\"/>\n",
       "       <use xlink:href=\"#DejaVuSans-30\" transform=\"translate(190.869141 0)\"/>\n",
       "       <use xlink:href=\"#DejaVuSans-30\" transform=\"translate(254.492188 0)\"/>\n",
       "      </g>\n",
       "     </g>\n",
       "    </g>\n",
       "    <g id=\"ytick_6\">\n",
       "     <g id=\"line2d_12\">\n",
       "      <g>\n",
       "       <use xlink:href=\"#m1a62432959\" x=\"46.0125\" y=\"29.792838\" style=\"stroke: #000000; stroke-width: 0.8\"/>\n",
       "      </g>\n",
       "     </g>\n",
       "     <g id=\"text_12\">\n",
       "      <!-- 25000 -->\n",
       "      <g transform=\"translate(7.2 33.592056) scale(0.1 -0.1)\">\n",
       "       <use xlink:href=\"#DejaVuSans-32\"/>\n",
       "       <use xlink:href=\"#DejaVuSans-35\" transform=\"translate(63.623047 0)\"/>\n",
       "       <use xlink:href=\"#DejaVuSans-30\" transform=\"translate(127.246094 0)\"/>\n",
       "       <use xlink:href=\"#DejaVuSans-30\" transform=\"translate(190.869141 0)\"/>\n",
       "       <use xlink:href=\"#DejaVuSans-30\" transform=\"translate(254.492188 0)\"/>\n",
       "      </g>\n",
       "     </g>\n",
       "    </g>\n",
       "   </g>\n",
       "   <g id=\"line2d_13\">\n",
       "    <path d=\"M 62.245227 19.296 \n",
       "L 63.549061 35.158534 \n",
       "L 64.852894 48.826497 \n",
       "L 66.156728 60.482108 \n",
       "L 67.460561 70.483794 \n",
       "L 70.068228 87.635563 \n",
       "L 72.675895 102.116009 \n",
       "L 75.283562 114.664837 \n",
       "L 77.891229 125.943666 \n",
       "L 80.498896 136.22054 \n",
       "L 83.106564 145.653737 \n",
       "L 85.714231 154.353885 \n",
       "L 88.321898 162.395741 \n",
       "L 90.929565 169.884866 \n",
       "L 93.537232 176.860111 \n",
       "L 97.448732 186.511326 \n",
       "L 100.056399 192.4617 \n",
       "L 102.664066 198.020464 \n",
       "L 105.271733 203.224821 \n",
       "L 107.8794 208.06076 \n",
       "L 110.487067 212.526658 \n",
       "L 113.094734 216.668165 \n",
       "L 115.702401 220.516569 \n",
       "L 118.310068 224.089024 \n",
       "L 120.917735 227.395602 \n",
       "L 123.525403 230.446153 \n",
       "L 126.13307 233.255682 \n",
       "L 128.740737 235.830309 \n",
       "L 132.652237 239.309802 \n",
       "L 136.563738 242.395201 \n",
       "L 140.475238 245.128578 \n",
       "L 144.386739 247.523574 \n",
       "L 148.298239 249.620575 \n",
       "L 152.20974 251.481398 \n",
       "L 156.12124 253.102991 \n",
       "L 160.032741 254.481293 \n",
       "L 163.944242 255.655001 \n",
       "L 169.159576 256.956418 \n",
       "L 174.37491 257.981092 \n",
       "L 179.590244 258.776271 \n",
       "L 186.109411 259.522398 \n",
       "L 193.932412 260.158772 \n",
       "L 201.755413 260.634654 \n",
       "L 209.578415 260.876238 \n",
       "L 223.920583 261.073454 \n",
       "L 252.604921 261.148971 \n",
       "L 385.595939 261.215749 \n",
       "L 386.899773 261.216 \n",
       "L 386.899773 261.216 \n",
       "\" clip-path=\"url(#pef6beb202d)\" style=\"fill: none; stroke: #87ceeb; stroke-width: 1.5; stroke-linecap: square\"/>\n",
       "   </g>\n",
       "   <g id=\"patch_3\">\n",
       "    <path d=\"M 46.0125 273.312 \n",
       "L 46.0125 7.2 \n",
       "\" style=\"fill: none; stroke: #000000; stroke-width: 0.8; stroke-linejoin: miter; stroke-linecap: square\"/>\n",
       "   </g>\n",
       "   <g id=\"patch_4\">\n",
       "    <path d=\"M 403.1325 273.312 \n",
       "L 403.1325 7.2 \n",
       "\" style=\"fill: none; stroke: #000000; stroke-width: 0.8; stroke-linejoin: miter; stroke-linecap: square\"/>\n",
       "   </g>\n",
       "   <g id=\"patch_5\">\n",
       "    <path d=\"M 46.0125 273.312 \n",
       "L 403.1325 273.312 \n",
       "\" style=\"fill: none; stroke: #000000; stroke-width: 0.8; stroke-linejoin: miter; stroke-linecap: square\"/>\n",
       "   </g>\n",
       "   <g id=\"patch_6\">\n",
       "    <path d=\"M 46.0125 7.2 \n",
       "L 403.1325 7.2 \n",
       "\" style=\"fill: none; stroke: #000000; stroke-width: 0.8; stroke-linejoin: miter; stroke-linecap: square\"/>\n",
       "   </g>\n",
       "  </g>\n",
       " </g>\n",
       " <defs>\n",
       "  <clipPath id=\"pef6beb202d\">\n",
       "   <rect x=\"46.0125\" y=\"7.2\" width=\"357.12\" height=\"266.112\"/>\n",
       "  </clipPath>\n",
       " </defs>\n",
       "</svg>\n"
      ],
      "text/plain": [
       "<Figure size 640x480 with 1 Axes>"
      ]
     },
     "metadata": {},
     "output_type": "display_data"
    }
   ],
   "source": [
    "import matplotlib.pyplot as plt\n",
    "%matplotlib inline\n",
    "%config InlineBackend.figure_format = 'svg'\n",
    "# plt.style.use(\"seaborn\")\n",
    "\n",
    "n_iter = 250\n",
    "learning_rate = 0.001\n",
    "\n",
    "history = [backward(model, X, y, learning_rate) for _ in range(n_iter)]\n",
    "\n",
    "plt.plot(range(len(history)), history, color=\"skyblue\")\n",
    "plt.show()"
   ]
  },
  {
   "cell_type": "code",
   "execution_count": 20,
   "metadata": {},
   "outputs": [
    {
     "name": "stdout",
     "output_type": "stream",
     "text": [
      "любят\n",
      "Кошачьи\n",
      "осторожны\n",
      "ведут\n",
      "ловкость\n",
      "мясе\n",
      "обычно\n",
      "шипение\n",
      "являются\n",
      "послушание\n",
      "мячом\n",
      "кошки\n",
      "имеют\n",
      "ночной\n",
      "Таким\n",
      "точить\n",
      "уникальными\n",
      "количество\n",
      "типичные\n",
      "охотиться\n",
      "домашние\n",
      "особенностями\n",
      "круп\n",
      "сами\n",
      "такую\n",
      "это\n",
      "человеком\n",
      "кошками\n",
      "зрения\n",
      "таким\n",
      "когти\n",
      "независимы\n",
      "эмоции\n",
      "основном\n",
      "открытость\n",
      "свои\n",
      "скрытность\n",
      "С\n",
      "отличаются\n",
      "дружелюбие\n",
      "Собаки\n",
      "палкой\n",
      "игры\n",
      "активны\n",
      "самостоятельны\n",
      "шерстью\n",
      "отличается\n",
      "всеядны\n",
      "Питание\n",
      "днём\n",
      "умеют\n",
      "большего\n",
      "Мяукание\n",
      "друга\n",
      "птицы\n",
      "требуют\n",
      "своей\n",
      "питания\n",
      "каждое\n",
      "точки\n",
      "существенно\n",
      "которые\n",
      "расчесывания\n",
      "друг\n",
      "разные\n",
      "уединение\n",
      "животные\n",
      "необходимо\n",
      "общего\n",
      "также\n",
      "образом\n",
      "В\n",
      "мурлыканье\n",
      "легко\n",
      "преимущественно\n",
      "редко\n",
      "стороны\n",
      "овощей\n",
      "источнике\n",
      "рычать\n",
      "напротив\n",
      "лаять\n",
      "внимания\n",
      "регулярного\n",
      "игривостью\n",
      "прогулки\n",
      "деревьям\n",
      "добычу\n",
      "стремлением\n",
      "нуждаются\n",
      "ухаживают\n",
      "издаваемые\n",
      "Кошки\n",
      "Они\n",
      "хищниками\n",
      "грация\n",
      "преданностью\n",
      "прогулок\n",
      "кошек\n",
      "купании\n",
      "жизни\n",
      "дрессировке\n",
      "поведения\n",
      "поведении\n",
      "мелкую\n",
      "мяса\n",
      "образ\n",
      "получать\n",
      "близкие\n",
      "преобладает\n",
      "достаточное\n",
      "обожают\n",
      "лазать\n",
      "общению\n",
      "пищи\n",
      "собаки\n",
      "выть\n",
      "мыши\n",
      "собак\n",
      "своими\n",
      "выражая\n",
      "заметна\n",
      "поддаются\n",
      "ухода\n",
      "человека\n",
      "звуки\n"
     ]
    }
   ],
   "source": [
    "learning = one_hot_encode(word_to_id[\"уединение\"], len(word_to_id))\n",
    "result = forward(model, [learning], return_cache=False)[0]\n",
    "\n",
    "for word in (id_to_word[id] for id in np.argsort(result)[::-1]):\n",
    "    print(word)"
   ]
  },
  {
   "cell_type": "code",
   "execution_count": 21,
   "metadata": {},
   "outputs": [],
   "source": [
    "def get_embedding(model, word):\n",
    "    try:\n",
    "        idx = word_to_id[word]\n",
    "    except KeyError:\n",
    "        print(f\"'{word}' нет в корпесе текста\")\n",
    "    one_hot = one_hot_encode(idx, len(word_to_id))\n",
    "    return forward(model, one_hot)[\"embeddings\"]"
   ]
  },
  {
   "cell_type": "code",
   "execution_count": 22,
   "metadata": {},
   "outputs": [
    {
     "data": {
      "text/plain": [
       "array([ 4.01939977e-01,  8.90495093e-01, -1.66338213e+00,  1.53249685e+00,\n",
       "        5.76867120e-01,  5.71119144e-01, -8.59197834e-01,  5.72113071e-01,\n",
       "        8.01245278e-01, -1.76194186e-01,  1.83657102e+00, -5.52849914e-02,\n",
       "        1.33856998e+00,  1.87429421e-01,  7.06097362e-01, -1.66794102e+00,\n",
       "        2.44486119e-01, -8.36011408e-01, -8.37152588e-01,  1.74840127e+00,\n",
       "       -3.49397462e-01, -7.32538512e-01, -3.98217811e-01, -1.15357653e+00,\n",
       "        1.61867169e+00, -6.51246339e-01,  3.74846739e-01,  1.37802191e+00,\n",
       "       -5.74765816e-01,  4.45339161e-01, -1.06950564e+00,  2.43233220e+00,\n",
       "        9.04485997e-01, -8.69310649e-02, -1.03644665e+00,  2.61177150e-02,\n",
       "       -1.93313645e-01,  1.95545644e+00, -8.94497336e-01,  1.99951478e-01,\n",
       "       -1.14844720e-01, -7.53358710e-02,  1.96329706e-01, -4.62033334e-01,\n",
       "        9.25934403e-01,  4.66895027e-01,  4.76281099e-01, -2.93417727e+00,\n",
       "        4.06975659e-01, -1.70719216e+00,  7.70101993e-01,  1.66725852e+00,\n",
       "       -1.05147093e+00, -1.51518014e-01, -8.21796296e-01,  8.79829919e-01,\n",
       "       -4.33912485e-02,  1.60995858e+00,  2.25777364e-01,  4.09183295e-01,\n",
       "       -9.19423567e-04,  8.25341897e-01, -1.56825436e+00,  2.30828051e-02,\n",
       "       -1.56341660e-01,  7.25181919e-01, -4.77651672e-01, -1.05791671e+00,\n",
       "       -7.49375992e-02, -1.20748554e+00, -1.53517667e+00,  4.84734879e-01,\n",
       "        4.47698150e-01,  5.29917858e-01,  1.03267927e+00, -5.89104765e-01,\n",
       "       -1.40696059e+00, -2.06422924e-01, -2.87620351e-01, -6.66079796e-01,\n",
       "       -1.90695750e-01, -7.14413937e-01, -2.10451025e+00, -6.09965542e-01,\n",
       "       -1.24152836e+00,  2.84620257e-01, -5.96357872e-01,  1.01492504e+00,\n",
       "        1.62565766e+00,  6.33927769e-01, -1.33088683e+00,  1.72167442e+00,\n",
       "        1.69350713e+00,  2.04649007e-02,  1.56971193e+00, -5.99938443e-01,\n",
       "       -1.96526329e+00, -5.90859097e-01,  1.34820553e+00, -1.58365047e+00,\n",
       "        1.18698434e-01, -9.18416658e-02, -6.78670834e-01, -2.54003219e-01,\n",
       "       -2.31283086e-01, -5.82330563e-01, -1.35301599e+00,  2.00027482e-01,\n",
       "        9.29874492e-01,  5.85721993e-01, -4.72701989e-01, -1.52410446e+00,\n",
       "       -5.01696943e-01,  1.39281453e+00,  7.02027246e-01,  4.06077884e-01,\n",
       "        9.02765772e-01,  5.22244544e-01,  3.12102623e-01,  5.89432663e-01,\n",
       "       -6.26186341e-01, -1.55510143e+00,  8.20252419e-01,  1.28193306e+00,\n",
       "       -1.08919336e+00,  9.67136542e-01,  1.48581791e+00, -9.20627530e-02,\n",
       "       -5.94038017e-01,  9.42689505e-02, -2.81219090e-01, -6.02793701e-01,\n",
       "        3.74336535e-01, -1.62323669e+00, -1.11419760e+00, -1.22053920e-01,\n",
       "       -2.41746276e-01,  5.54307805e-01,  1.86689244e+00,  2.13043662e-01,\n",
       "        5.29621423e-01, -8.87700157e-01,  5.16051045e-01, -6.70777104e-01,\n",
       "       -7.63333706e-02, -9.69146969e-02,  8.85345176e-01, -1.08105318e+00,\n",
       "       -2.40410582e+00, -1.70538616e-01,  4.70900559e-01,  7.50864428e-02,\n",
       "        1.09015605e+00,  4.45898438e-01, -5.19836145e-01, -2.23550364e+00,\n",
       "       -3.08365200e-01,  1.16965941e+00, -1.89456718e-01, -3.54173399e-03,\n",
       "        4.46217021e-01, -9.78716266e-01,  5.95194630e-01,  1.52421747e+00,\n",
       "       -3.56063251e-01, -1.31197563e+00, -1.12408319e-01, -2.22275609e+00,\n",
       "        3.22219739e-01,  3.59734164e-01,  1.68123886e+00, -2.52859602e-01,\n",
       "        3.80319724e-01, -9.10287307e-01, -1.07774325e-01, -1.37484230e+00,\n",
       "       -9.68147269e-02, -5.00661039e-01,  9.61771722e-02, -6.72136092e-01,\n",
       "        1.55188682e-01, -2.33577308e-01, -2.86546505e-02, -8.10064835e-02,\n",
       "       -2.22856455e-01,  6.43111803e-01, -3.75600620e-02, -1.40134452e-01,\n",
       "       -2.79691593e-01, -6.94318507e-01, -2.56012391e-01,  2.01768591e+00,\n",
       "       -1.15534125e+00, -1.52547445e-01, -3.58634417e-01, -2.22193641e-01,\n",
       "       -3.86078535e-01,  3.02668094e-01, -1.54576604e+00,  9.57824044e-01,\n",
       "        6.12109642e-01, -1.04819214e+00, -1.95909444e+00, -8.00647285e-01,\n",
       "       -1.05573683e-01,  2.37848475e+00,  4.59970833e-01, -1.78316945e+00,\n",
       "       -6.27748134e-01,  2.18730989e-02,  9.45213759e-02, -1.22331574e+00,\n",
       "       -2.96077664e-01, -6.27472000e-01, -1.27819885e+00,  1.68271058e-01,\n",
       "        8.59337965e-01,  1.20231864e+00,  5.03577404e-01, -4.68340716e-01,\n",
       "        7.86848859e-01,  4.03520084e-01,  2.34732208e-01, -5.59168958e-01,\n",
       "       -5.61346116e-01,  1.99818114e-01,  2.38494818e+00,  8.41516800e-02,\n",
       "       -6.58278301e-01, -4.12516305e-01, -3.96632804e-01,  1.98549802e+00,\n",
       "       -2.75905336e-01,  9.39521509e-01, -3.88178751e-01,  2.09808157e-01,\n",
       "        8.08299991e-01, -4.87743572e-01, -6.43188434e-01,  1.54967002e+00,\n",
       "        1.11985673e+00,  7.44046133e-01,  6.86038020e-01,  5.36858137e-01,\n",
       "        1.69843073e+00, -4.26793101e-01,  5.15406524e-01, -1.61157050e+00,\n",
       "       -9.53339494e-01, -1.06261460e+00,  1.31782766e+00, -2.49339331e+00,\n",
       "       -6.25403221e-01, -3.02366995e+00, -3.69284735e-01, -4.88080402e-01,\n",
       "        1.44264601e+00,  5.22130674e-01, -7.87573486e-01,  7.85975020e-01,\n",
       "       -7.02695920e-02,  1.60749829e-02, -1.03747980e+00, -9.50268327e-01,\n",
       "       -7.74655606e-01, -2.47056413e-03,  1.56066353e-01,  1.57842400e+00,\n",
       "        2.39844959e-01, -2.90061630e+00,  1.20108829e-01, -1.10629804e+00,\n",
       "       -1.06363478e+00, -1.03693876e+00, -5.99374517e-01, -1.38979683e+00,\n",
       "        9.22255316e-03, -1.52156354e+00,  4.27694306e-01,  2.25497354e+00,\n",
       "       -1.01551297e+00, -4.03248798e-01, -2.36298298e+00, -4.22163765e-01,\n",
       "        8.01038262e-01,  6.80184726e-01, -2.30017192e-01,  1.13608273e+00,\n",
       "        2.53052811e+00,  1.62282993e+00, -3.36839144e-01, -1.50693244e+00,\n",
       "       -4.50096368e-01, -1.11282077e+00,  3.78067163e-01, -1.12064072e+00,\n",
       "       -9.47099425e-02,  1.00415245e+00, -1.30935914e-01, -1.01250972e+00])"
      ]
     },
     "execution_count": 22,
     "metadata": {},
     "output_type": "execute_result"
    }
   ],
   "source": [
    "get_embedding(model, \"всеядны\")"
   ]
  },
  {
   "cell_type": "code",
   "execution_count": 23,
   "metadata": {},
   "outputs": [
    {
     "data": {
      "text/html": [
       "    <style>\n",
       "        .bk-notebook-logo {\n",
       "            display: block;\n",
       "            width: 20px;\n",
       "            height: 20px;\n",
       "            background-image: url(data:image/png;base64,iVBORw0KGgoAAAANSUhEUgAAABQAAAAUCAYAAACNiR0NAAAABHNCSVQICAgIfAhkiAAAAAlwSFlzAAALEgAACxIB0t1+/AAAABx0RVh0U29mdHdhcmUAQWRvYmUgRmlyZXdvcmtzIENTNui8sowAAAOkSURBVDiNjZRtaJVlGMd/1/08zzln5zjP1LWcU9N0NkN8m2CYjpgQYQXqSs0I84OLIC0hkEKoPtiH3gmKoiJDU7QpLgoLjLIQCpEsNJ1vqUOdO7ppbuec5+V+rj4ctwzd8IIbbi6u+8f1539dt3A78eXC7QizUF7gyV1fD1Yqg4JWz84yffhm0qkFqBogB9rM8tZdtwVsPUhWhGcFJngGeWrPzHm5oaMmkfEg1usvLFyc8jLRqDOMru7AyC8saQr7GG7f5fvDeH7Ej8CM66nIF+8yngt6HWaKh7k49Soy9nXurCi1o3qUbS3zWfrYeQDTB/Qj6kX6Ybhw4B+bOYoLKCC9H3Nu/leUTZ1JdRWkkn2ldcCamzrcf47KKXdAJllSlxAOkRgyHsGC/zRday5Qld9DyoM4/q/rUoy/CXh3jzOu3bHUVZeU+DEn8FInkPBFlu3+nW3Nw0mk6vCDiWg8CeJaxEwuHS3+z5RgY+YBR6V1Z1nxSOfoaPa4LASWxxdNp+VWTk7+4vzaou8v8PN+xo+KY2xsw6une2frhw05CTYOmQvsEhjhWjn0bmXPjpE1+kplmmkP3suftwTubK9Vq22qKmrBhpY4jvd5afdRA3wGjFAgcnTK2s4hY0/GPNIb0nErGMCRxWOOX64Z8RAC4oCXdklmEvcL8o0BfkNK4lUg9HTl+oPlQxdNo3Mg4Nv175e/1LDGzZen30MEjRUtmXSfiTVu1kK8W4txyV6BMKlbgk3lMwYCiusNy9fVfvvwMxv8Ynl6vxoByANLTWplvuj/nF9m2+PDtt1eiHPBr1oIfhCChQMBw6Aw0UulqTKZdfVvfG7VcfIqLG9bcldL/+pdWTLxLUy8Qq38heUIjh4XlzZxzQm19lLFlr8vdQ97rjZVOLf8nclzckbcD4wxXMidpX30sFd37Fv/GtwwhzhxGVAprjbg0gCAEeIgwCZyTV2Z1REEW8O4py0wsjeloKoMr6iCY6dP92H6Vw/oTyICIthibxjm/DfN9lVz8IqtqKYLUXfoKVMVQVVJOElGjrnnUt9T9wbgp8AyYKaGlqingHZU/uG2NTZSVqwHQTWkx9hxjkpWDaCg6Ckj5qebgBVbT3V3NNXMSiWSDdGV3hrtzla7J+duwPOToIg42ChPQOQjspnSlp1V+Gjdged7+8UN5CRAV7a5EdFNwCjEaBR27b3W890TE7g24NAP/mMDXRWrGoFPQI9ls/MWO2dWFAar/xcOIImbbpA3zgAAAABJRU5ErkJggg==);\n",
       "        }\n",
       "    </style>\n",
       "    <div>\n",
       "        <a href=\"https://bokeh.org\" target=\"_blank\" class=\"bk-notebook-logo\"></a>\n",
       "        <span id=\"b787c054-83fd-4be5-8e2b-a566e7f54b49\">Loading BokehJS ...</span>\n",
       "    </div>\n"
      ]
     },
     "metadata": {},
     "output_type": "display_data"
    },
    {
     "data": {
      "application/javascript": "'use strict';\n(function(root) {\n  function now() {\n    return new Date();\n  }\n\n  const force = true;\n\n  if (typeof root._bokeh_onload_callbacks === \"undefined\" || force === true) {\n    root._bokeh_onload_callbacks = [];\n    root._bokeh_is_loading = undefined;\n  }\n\nconst JS_MIME_TYPE = 'application/javascript';\n  const HTML_MIME_TYPE = 'text/html';\n  const EXEC_MIME_TYPE = 'application/vnd.bokehjs_exec.v0+json';\n  const CLASS_NAME = 'output_bokeh rendered_html';\n\n  /**\n   * Render data to the DOM node\n   */\n  function render(props, node) {\n    const script = document.createElement(\"script\");\n    node.appendChild(script);\n  }\n\n  /**\n   * Handle when an output is cleared or removed\n   */\n  function handleClearOutput(event, handle) {\n    function drop(id) {\n      const view = Bokeh.index.get_by_id(id)\n      if (view != null) {\n        view.model.document.clear()\n        Bokeh.index.delete(view)\n      }\n    }\n\n    const cell = handle.cell;\n\n    const id = cell.output_area._bokeh_element_id;\n    const server_id = cell.output_area._bokeh_server_id;\n\n    // Clean up Bokeh references\n    if (id != null) {\n      drop(id)\n    }\n\n    if (server_id !== undefined) {\n      // Clean up Bokeh references\n      const cmd_clean = \"from bokeh.io.state import curstate; print(curstate().uuid_to_server['\" + server_id + \"'].get_sessions()[0].document.roots[0]._id)\";\n      cell.notebook.kernel.execute(cmd_clean, {\n        iopub: {\n          output: function(msg) {\n            const id = msg.content.text.trim()\n            drop(id)\n          }\n        }\n      });\n      // Destroy server and session\n      const cmd_destroy = \"import bokeh.io.notebook as ion; ion.destroy_server('\" + server_id + \"')\";\n      cell.notebook.kernel.execute(cmd_destroy);\n    }\n  }\n\n  /**\n   * Handle when a new output is added\n   */\n  function handleAddOutput(event, handle) {\n    const output_area = handle.output_area;\n    const output = handle.output;\n\n    // limit handleAddOutput to display_data with EXEC_MIME_TYPE content only\n    if ((output.output_type != \"display_data\") || (!Object.prototype.hasOwnProperty.call(output.data, EXEC_MIME_TYPE))) {\n      return\n    }\n\n    const toinsert = output_area.element.find(\".\" + CLASS_NAME.split(' ')[0]);\n\n    if (output.metadata[EXEC_MIME_TYPE][\"id\"] !== undefined) {\n      toinsert[toinsert.length - 1].firstChild.textContent = output.data[JS_MIME_TYPE];\n      // store reference to embed id on output_area\n      output_area._bokeh_element_id = output.metadata[EXEC_MIME_TYPE][\"id\"];\n    }\n    if (output.metadata[EXEC_MIME_TYPE][\"server_id\"] !== undefined) {\n      const bk_div = document.createElement(\"div\");\n      bk_div.innerHTML = output.data[HTML_MIME_TYPE];\n      const script_attrs = bk_div.children[0].attributes;\n      for (let i = 0; i < script_attrs.length; i++) {\n        toinsert[toinsert.length - 1].firstChild.setAttribute(script_attrs[i].name, script_attrs[i].value);\n        toinsert[toinsert.length - 1].firstChild.textContent = bk_div.children[0].textContent\n      }\n      // store reference to server id on output_area\n      output_area._bokeh_server_id = output.metadata[EXEC_MIME_TYPE][\"server_id\"];\n    }\n  }\n\n  function register_renderer(events, OutputArea) {\n\n    function append_mime(data, metadata, element) {\n      // create a DOM node to render to\n      const toinsert = this.create_output_subarea(\n        metadata,\n        CLASS_NAME,\n        EXEC_MIME_TYPE\n      );\n      this.keyboard_manager.register_events(toinsert);\n      // Render to node\n      const props = {data: data, metadata: metadata[EXEC_MIME_TYPE]};\n      render(props, toinsert[toinsert.length - 1]);\n      element.append(toinsert);\n      return toinsert\n    }\n\n    /* Handle when an output is cleared or removed */\n    events.on('clear_output.CodeCell', handleClearOutput);\n    events.on('delete.Cell', handleClearOutput);\n\n    /* Handle when a new output is added */\n    events.on('output_added.OutputArea', handleAddOutput);\n\n    /**\n     * Register the mime type and append_mime function with output_area\n     */\n    OutputArea.prototype.register_mime_type(EXEC_MIME_TYPE, append_mime, {\n      /* Is output safe? */\n      safe: true,\n      /* Index of renderer in `output_area.display_order` */\n      index: 0\n    });\n  }\n\n  // register the mime type if in Jupyter Notebook environment and previously unregistered\n  if (root.Jupyter !== undefined) {\n    const events = require('base/js/events');\n    const OutputArea = require('notebook/js/outputarea').OutputArea;\n\n    if (OutputArea.prototype.mime_types().indexOf(EXEC_MIME_TYPE) == -1) {\n      register_renderer(events, OutputArea);\n    }\n  }\n  if (typeof (root._bokeh_timeout) === \"undefined\" || force === true) {\n    root._bokeh_timeout = Date.now() + 5000;\n    root._bokeh_failed_load = false;\n  }\n\n  const NB_LOAD_WARNING = {'data': {'text/html':\n     \"<div style='background-color: #fdd'>\\n\"+\n     \"<p>\\n\"+\n     \"BokehJS does not appear to have successfully loaded. If loading BokehJS from CDN, this \\n\"+\n     \"may be due to a slow or bad network connection. Possible fixes:\\n\"+\n     \"</p>\\n\"+\n     \"<ul>\\n\"+\n     \"<li>re-rerun `output_notebook()` to attempt to load from CDN again, or</li>\\n\"+\n     \"<li>use INLINE resources instead, as so:</li>\\n\"+\n     \"</ul>\\n\"+\n     \"<code>\\n\"+\n     \"from bokeh.resources import INLINE\\n\"+\n     \"output_notebook(resources=INLINE)\\n\"+\n     \"</code>\\n\"+\n     \"</div>\"}};\n\n  function display_loaded(error = null) {\n    const el = document.getElementById(\"b787c054-83fd-4be5-8e2b-a566e7f54b49\");\n    if (el != null) {\n      const html = (() => {\n        if (typeof root.Bokeh === \"undefined\") {\n          if (error == null) {\n            return \"BokehJS is loading ...\";\n          } else {\n            return \"BokehJS failed to load.\";\n          }\n        } else {\n          const prefix = `BokehJS ${root.Bokeh.version}`;\n          if (error == null) {\n            return `${prefix} successfully loaded.`;\n          } else {\n            return `${prefix} <b>encountered errors</b> while loading and may not function as expected.`;\n          }\n        }\n      })();\n      el.innerHTML = html;\n\n      if (error != null) {\n        const wrapper = document.createElement(\"div\");\n        wrapper.style.overflow = \"auto\";\n        wrapper.style.height = \"5em\";\n        wrapper.style.resize = \"vertical\";\n        const content = document.createElement(\"div\");\n        content.style.fontFamily = \"monospace\";\n        content.style.whiteSpace = \"pre-wrap\";\n        content.style.backgroundColor = \"rgb(255, 221, 221)\";\n        content.textContent = error.stack ?? error.toString();\n        wrapper.append(content);\n        el.append(wrapper);\n      }\n    } else if (Date.now() < root._bokeh_timeout) {\n      setTimeout(() => display_loaded(error), 100);\n    }\n  }\n\n  function run_callbacks() {\n    try {\n      root._bokeh_onload_callbacks.forEach(function(callback) {\n        if (callback != null)\n          callback();\n      });\n    } finally {\n      delete root._bokeh_onload_callbacks\n    }\n    console.debug(\"Bokeh: all callbacks have finished\");\n  }\n\n  function load_libs(css_urls, js_urls, callback) {\n    if (css_urls == null) css_urls = [];\n    if (js_urls == null) js_urls = [];\n\n    root._bokeh_onload_callbacks.push(callback);\n    if (root._bokeh_is_loading > 0) {\n      console.debug(\"Bokeh: BokehJS is being loaded, scheduling callback at\", now());\n      return null;\n    }\n    if (js_urls == null || js_urls.length === 0) {\n      run_callbacks();\n      return null;\n    }\n    console.debug(\"Bokeh: BokehJS not loaded, scheduling load and callback at\", now());\n    root._bokeh_is_loading = css_urls.length + js_urls.length;\n\n    function on_load() {\n      root._bokeh_is_loading--;\n      if (root._bokeh_is_loading === 0) {\n        console.debug(\"Bokeh: all BokehJS libraries/stylesheets loaded\");\n        run_callbacks()\n      }\n    }\n\n    function on_error(url) {\n      console.error(\"failed to load \" + url);\n    }\n\n    for (let i = 0; i < css_urls.length; i++) {\n      const url = css_urls[i];\n      const element = document.createElement(\"link\");\n      element.onload = on_load;\n      element.onerror = on_error.bind(null, url);\n      element.rel = \"stylesheet\";\n      element.type = \"text/css\";\n      element.href = url;\n      console.debug(\"Bokeh: injecting link tag for BokehJS stylesheet: \", url);\n      document.body.appendChild(element);\n    }\n\n    for (let i = 0; i < js_urls.length; i++) {\n      const url = js_urls[i];\n      const element = document.createElement('script');\n      element.onload = on_load;\n      element.onerror = on_error.bind(null, url);\n      element.async = false;\n      element.src = url;\n      console.debug(\"Bokeh: injecting script tag for BokehJS library: \", url);\n      document.head.appendChild(element);\n    }\n  };\n\n  function inject_raw_css(css) {\n    const element = document.createElement(\"style\");\n    element.appendChild(document.createTextNode(css));\n    document.body.appendChild(element);\n  }\n\n  const js_urls = [\"https://cdn.bokeh.org/bokeh/release/bokeh-3.6.3.min.js\", \"https://cdn.bokeh.org/bokeh/release/bokeh-gl-3.6.3.min.js\", \"https://cdn.bokeh.org/bokeh/release/bokeh-widgets-3.6.3.min.js\", \"https://cdn.bokeh.org/bokeh/release/bokeh-tables-3.6.3.min.js\", \"https://cdn.bokeh.org/bokeh/release/bokeh-mathjax-3.6.3.min.js\"];\n  const css_urls = [];\n\n  const inline_js = [    function(Bokeh) {\n      Bokeh.set_log_level(\"info\");\n    },\nfunction(Bokeh) {\n    }\n  ];\n\n  function run_inline_js() {\n    if (root.Bokeh !== undefined || force === true) {\n      try {\n            for (let i = 0; i < inline_js.length; i++) {\n      inline_js[i].call(root, root.Bokeh);\n    }\n\n      } catch (error) {display_loaded(error);throw error;\n      }if (force === true) {\n        display_loaded();\n      }} else if (Date.now() < root._bokeh_timeout) {\n      setTimeout(run_inline_js, 100);\n    } else if (!root._bokeh_failed_load) {\n      console.log(\"Bokeh: BokehJS failed to load within specified timeout.\");\n      root._bokeh_failed_load = true;\n    } else if (force !== true) {\n      const cell = $(document.getElementById(\"b787c054-83fd-4be5-8e2b-a566e7f54b49\")).parents('.cell').data().cell;\n      cell.output_area.append_execute_result(NB_LOAD_WARNING)\n    }\n  }\n\n  if (root._bokeh_is_loading === 0) {\n    console.debug(\"Bokeh: BokehJS loaded, going straight to plotting\");\n    run_inline_js();\n  } else {\n    load_libs(css_urls, js_urls, function() {\n      console.debug(\"Bokeh: BokehJS plotting callback run at\", now());\n      run_inline_js();\n    });\n  }\n}(window));",
      "application/vnd.bokehjs_load.v0+json": ""
     },
     "metadata": {},
     "output_type": "display_data"
    }
   ],
   "source": [
    "import bokeh.models as bm, bokeh.plotting as pl\n",
    "from bokeh.io import output_notebook\n",
    "output_notebook()\n",
    "\n",
    "def draw_vectors(x, y, radius=10, alpha=0.25, color=\"blue\", width=600, height=400, show=True, **kwargs):\n",
    "    \"\"\"Функция для визуализации векторов\"\"\"\n",
    "    if isinstance(color, str):\n",
    "        color = [color] * len(x)\n",
    "    data_source = bm.ColumnDataSource({ \"x\": x, \"y\": y, \"color\": color, **kwargs })\n",
    "    fig = pl.figure(active_scroll=\"wheel_zoom\", width=width, height=height)\n",
    "    fig.scatter(\"x\", \"y\", size=radius, color=\"color\", alpha=alpha, source=data_source)\n",
    "    fig.add_tools(bm.HoverTool(tooltips=[(key, \"@\" + key) for key in kwargs.keys()]))\n",
    "    if show:\n",
    "        pl.show(fig)\n",
    "    return fig"
   ]
  },
  {
   "cell_type": "code",
   "execution_count": 24,
   "metadata": {},
   "outputs": [
    {
     "name": "stderr",
     "output_type": "stream",
     "text": [
      "/Users/pakorolev/miniconda3/envs/nlp_course/lib/python3.12/site-packages/sklearn/utils/deprecation.py:151: FutureWarning: 'force_all_finite' was renamed to 'ensure_all_finite' in 1.6 and will be removed in 1.8.\n",
      "  warnings.warn(\n",
      "/Users/pakorolev/miniconda3/envs/nlp_course/lib/python3.12/site-packages/umap/umap_.py:1952: UserWarning: n_jobs value 1 overridden to 1 by setting random_state. Use no seed for parallelism.\n",
      "  warn(\n",
      "BokehUserWarning: ColumnDataSource's columns must be of the same length. Current lengths: ('color', 126), ('tokens', 144), ('x', 126), ('y', 126)\n"
     ]
    },
    {
     "data": {
      "text/html": [
       "\n",
       "  <div id=\"daf4f078-44ed-4d04-80e3-26f46efba8c4\" data-root-id=\"p1004\" style=\"display: contents;\"></div>\n"
      ]
     },
     "metadata": {},
     "output_type": "display_data"
    },
    {
     "data": {
      "application/javascript": "(function(root) {\n  function embed_document(root) {\n  const docs_json = {\"ba65bfd0-2060-4a52-b5c3-2a6928f3b9b0\":{\"version\":\"3.6.3\",\"title\":\"Bokeh Application\",\"roots\":[{\"type\":\"object\",\"name\":\"Figure\",\"id\":\"p1004\",\"attributes\":{\"height\":400,\"x_range\":{\"type\":\"object\",\"name\":\"DataRange1d\",\"id\":\"p1005\"},\"y_range\":{\"type\":\"object\",\"name\":\"DataRange1d\",\"id\":\"p1006\"},\"x_scale\":{\"type\":\"object\",\"name\":\"LinearScale\",\"id\":\"p1013\"},\"y_scale\":{\"type\":\"object\",\"name\":\"LinearScale\",\"id\":\"p1014\"},\"title\":{\"type\":\"object\",\"name\":\"Title\",\"id\":\"p1011\"},\"renderers\":[{\"type\":\"object\",\"name\":\"GlyphRenderer\",\"id\":\"p1044\",\"attributes\":{\"data_source\":{\"type\":\"object\",\"name\":\"ColumnDataSource\",\"id\":\"p1001\",\"attributes\":{\"selected\":{\"type\":\"object\",\"name\":\"Selection\",\"id\":\"p1002\",\"attributes\":{\"indices\":[],\"line_indices\":[]}},\"selection_policy\":{\"type\":\"object\",\"name\":\"UnionRenderers\",\"id\":\"p1003\"},\"data\":{\"type\":\"map\",\"entries\":[[\"x\",{\"type\":\"ndarray\",\"array\":{\"type\":\"bytes\",\"data\":\"cJzuP85qPUBpSNE/ceUDvblwuD8kax0/QpUNP6FAoz//klI/oe9TPwgyND941V2/NysEP+VX3L5M1BpAIdZLP4tVWD6E3Os/k/YaPygkJUAWi7y99xAZv/HQlD5ha0RA28p0PPheoj2DMgM/lO8TQF5O5T6W3Fe+K+swPRNrez/wWV8/s/AGv0gOm76HTzC+C1clQJ+GvDyaL8g/E/KMP/Z+2z+/bu4/VmGfP1ymK0DyUANAdyUBQA/RjD6RggFA/yGave24Or8EvqM/nTUYQNr6uT/7PZI/eJb5PyZ3EECD+d4/i3EjQGtDcD/X1LQ98PKKP0O8/76+T8A/HbnfP58cgj3mv/8/Lp/8P496sz9/V6i9e2nSPjR1mz8alYg+6RjZP3GrCkCCDrY/AXg+P+oVGb7D4SNA9YK+PjsB+T8U6hNAOyi/PyomJ0DHZxO/h+JsPknK0T6aL0Y/qJ+ZPqFrfj9QMCVAG0AhQL0+iD9sHgtA/agmvr1iGj9bV60/beMiQEEOgT8hsBVAsybWPym6tj9+yOM/OWd4P2Q1AED19b8/BwyhPvscHEAUCgi/fD5zvwyP4D+sphlAikudvmsVAEAtkDNAFJU/QDcgNUBK8Yk/89RCQNH+J741RfE/nKwLQFR3REBsFUQ/hw8JQEmAlz8DKs0/\"},\"shape\":[126],\"dtype\":\"float32\",\"order\":\"little\"}],[\"y\",{\"type\":\"ndarray\",\"array\":{\"type\":\"bytes\",\"data\":\"gzxGQSlUJUH8aiZBOChLQQASFkGCGEJBHwc1QRfKPUGQBiJBnxovQS0hHUEYjTNBjEMoQeeUOkFDgiFBY685QX0wSEGL5yVB6HAkQZ1YPEFABC1BdPwkQQapJkEteyhBZtBFQf1wPEEwjFBBzQ5LQdJcLUEAE0NBJls4QasKN0GAVixBzw9BQY4ANEF0/zJBRls0QeuHMkGHBC9Bn4w8QYN2H0GWTT1BOSseQZysO0F0hBhBT5owQVpfTUGyz0VBRZpAQd7fPUEzrxZBCVw6QWMcSkHnM0hBzM0yQX/fPkEn8UNB4/lGQeJdP0HHVTxBypYuQe9XQkHr9x9BnJAvQTfwHEHUBSBB6TYjQZrVUUGNdjFBWYc4QUq+IUELAhdBTmM4QXa3IUEYUzJBAVZHQXaOI0HVtSxB8LFEQb7vK0G29EhBjOVCQXw8RUERGTlBF20ZQWtsQkGIxEpBks8hQemrJUF95i9BeWsyQZxRGEEY2idB0d8fQcAQL0HbozBBARIsQZo9UkEHuDtBXQlLQYX9VEFD0BJBrSxLQWZkMEFq+zNBF2c2QSxlG0F7+i5B2XU3QfOmVkG9ZCZBtFomQVupFEHFRzdBrHM/QbzNIUEJARlBY7E+QaKsKkHqADJBIUw2QXrzM0ED6D1BiPc/QfDqKEHO3ThB\"},\"shape\":[126],\"dtype\":\"float32\",\"order\":\"little\"}],[\"color\",[\"blue\",\"blue\",\"blue\",\"blue\",\"blue\",\"blue\",\"blue\",\"blue\",\"blue\",\"blue\",\"blue\",\"blue\",\"blue\",\"blue\",\"blue\",\"blue\",\"blue\",\"blue\",\"blue\",\"blue\",\"blue\",\"blue\",\"blue\",\"blue\",\"blue\",\"blue\",\"blue\",\"blue\",\"blue\",\"blue\",\"blue\",\"blue\",\"blue\",\"blue\",\"blue\",\"blue\",\"blue\",\"blue\",\"blue\",\"blue\",\"blue\",\"blue\",\"blue\",\"blue\",\"blue\",\"blue\",\"blue\",\"blue\",\"blue\",\"blue\",\"blue\",\"blue\",\"blue\",\"blue\",\"blue\",\"blue\",\"blue\",\"blue\",\"blue\",\"blue\",\"blue\",\"blue\",\"blue\",\"blue\",\"blue\",\"blue\",\"blue\",\"blue\",\"blue\",\"blue\",\"blue\",\"blue\",\"blue\",\"blue\",\"blue\",\"blue\",\"blue\",\"blue\",\"blue\",\"blue\",\"blue\",\"blue\",\"blue\",\"blue\",\"blue\",\"blue\",\"blue\",\"blue\",\"blue\",\"blue\",\"blue\",\"blue\",\"blue\",\"blue\",\"blue\",\"blue\",\"blue\",\"blue\",\"blue\",\"blue\",\"blue\",\"blue\",\"blue\",\"blue\",\"blue\",\"blue\",\"blue\",\"blue\",\"blue\",\"blue\",\"blue\",\"blue\",\"blue\",\"blue\",\"blue\",\"blue\",\"blue\",\"blue\",\"blue\",\"blue\",\"blue\",\"blue\",\"blue\",\"blue\",\"blue\",\"blue\"]],[\"tokens\",[\"\\u041a\\u043e\\u0448\\u043a\\u0438\",\"\\u0441\\u043e\\u0431\\u0430\\u043a\\u0438\",\"\\u044d\\u0442\\u043e\",\"\\u0434\\u043e\\u043c\\u0430\\u0448\\u043d\\u0438\\u0435\",\"\\u0436\\u0438\\u0432\\u043e\\u0442\\u043d\\u044b\\u0435\",\"\\u043a\\u043e\\u0442\\u043e\\u0440\\u044b\\u0435\",\"\\u0438\\u043c\\u0435\\u044e\\u0442\",\"\\u043e\\u0431\\u0449\\u0435\\u0433\\u043e\",\"\\u0441\\u0443\\u0449\\u0435\\u0441\\u0442\\u0432\\u0435\\u043d\\u043d\\u043e\",\"\\u043e\\u0442\\u043b\\u0438\\u0447\\u0430\\u044e\\u0442\\u0441\\u044f\",\"\\u0434\\u0440\\u0443\\u0433\",\"\\u0434\\u0440\\u0443\\u0433\\u0430\",\"\\u041a\\u043e\\u0448\\u043a\\u0438\",\"\\u043e\\u0431\\u044b\\u0447\\u043d\\u043e\",\"\\u0432\\u0435\\u0434\\u0443\\u0442\",\"\\u043d\\u043e\\u0447\\u043d\\u043e\\u0439\",\"\\u043e\\u0431\\u0440\\u0430\\u0437\",\"\\u0436\\u0438\\u0437\\u043d\\u0438\",\"\\u043d\\u0435\\u0437\\u0430\\u0432\\u0438\\u0441\\u0438\\u043c\\u044b\",\"\\u043e\\u0441\\u0442\\u043e\\u0440\\u043e\\u0436\\u043d\\u044b\",\"\\u043b\\u044e\\u0431\\u044f\\u0442\",\"\\u0443\\u0435\\u0434\\u0438\\u043d\\u0435\\u043d\\u0438\\u0435\",\"\\u041a\\u043e\\u0448\\u0430\\u0447\\u044c\\u0438\",\"\\u043b\\u044e\\u0431\\u044f\\u0442\",\"\\u043b\\u0430\\u0437\\u0430\\u0442\\u044c\",\"\\u0434\\u0435\\u0440\\u0435\\u0432\\u044c\\u044f\\u043c\",\"\\u0442\\u043e\\u0447\\u0438\\u0442\\u044c\",\"\\u043a\\u043e\\u0433\\u0442\\u0438\",\"\\u043e\\u0445\\u043e\\u0442\\u0438\\u0442\\u044c\\u0441\\u044f\",\"\\u043c\\u0435\\u043b\\u043a\\u0443\\u044e\",\"\\u0434\\u043e\\u0431\\u044b\\u0447\\u0443\",\"\\u0442\\u0430\\u043a\\u0443\\u044e\",\"\\u043c\\u044b\\u0448\\u0438\",\"\\u043f\\u0442\\u0438\\u0446\\u044b\",\"\\u0412\",\"\\u043f\\u043e\\u0432\\u0435\\u0434\\u0435\\u043d\\u0438\\u0438\",\"\\u043a\\u043e\\u0448\\u0435\\u043a\",\"\\u0437\\u0430\\u043c\\u0435\\u0442\\u043d\\u0430\",\"\\u0433\\u0440\\u0430\\u0446\\u0438\\u044f\",\"\\u043b\\u043e\\u0432\\u043a\\u043e\\u0441\\u0442\\u044c\",\"\\u0441\\u043a\\u0440\\u044b\\u0442\\u043d\\u043e\\u0441\\u0442\\u044c\",\"\\u041c\\u044f\\u0443\\u043a\\u0430\\u043d\\u0438\\u0435\",\"\\u043c\\u0443\\u0440\\u043b\\u044b\\u043a\\u0430\\u043d\\u044c\\u0435\",\"\\u0448\\u0438\\u043f\\u0435\\u043d\\u0438\\u0435\",\"\\u0442\\u0438\\u043f\\u0438\\u0447\\u043d\\u044b\\u0435\",\"\\u0437\\u0432\\u0443\\u043a\\u0438\",\"\\u0438\\u0437\\u0434\\u0430\\u0432\\u0430\\u0435\\u043c\\u044b\\u0435\",\"\\u043a\\u043e\\u0448\\u043a\\u0430\\u043c\\u0438\",\"\\u0421\\u043e\\u0431\\u0430\\u043a\\u0438\",\"\\u043d\\u0430\\u043f\\u0440\\u043e\\u0442\\u0438\\u0432\",\"\\u0430\\u043a\\u0442\\u0438\\u0432\\u043d\\u044b\",\"\\u0434\\u043d\\u0451\\u043c\",\"\\u043e\\u0442\\u043b\\u0438\\u0447\\u0430\\u044e\\u0442\\u0441\\u044f\",\"\\u043f\\u0440\\u0435\\u0434\\u0430\\u043d\\u043d\\u043e\\u0441\\u0442\\u044c\\u044e\",\"\\u0438\\u0433\\u0440\\u0438\\u0432\\u043e\\u0441\\u0442\\u044c\\u044e\",\"\\u0441\\u0442\\u0440\\u0435\\u043c\\u043b\\u0435\\u043d\\u0438\\u0435\\u043c\",\"\\u043e\\u0431\\u0449\\u0435\\u043d\\u0438\\u044e\",\"\\u0447\\u0435\\u043b\\u043e\\u0432\\u0435\\u043a\\u043e\\u043c\",\"\\u041e\\u043d\\u0438\",\"\\u043e\\u0431\\u043e\\u0436\\u0430\\u044e\\u0442\",\"\\u043f\\u0440\\u043e\\u0433\\u0443\\u043b\\u043a\\u0438\",\"\\u0438\\u0433\\u0440\\u044b\",\"\\u043f\\u0430\\u043b\\u043a\\u043e\\u0439\",\"\\u043c\\u044f\\u0447\\u043e\\u043c\",\"\\u043b\\u0435\\u0433\\u043a\\u043e\",\"\\u043f\\u043e\\u0434\\u0434\\u0430\\u044e\\u0442\\u0441\\u044f\",\"\\u0434\\u0440\\u0435\\u0441\\u0441\\u0438\\u0440\\u043e\\u0432\\u043a\\u0435\",\"\\u0412\",\"\\u043f\\u043e\\u0432\\u0435\\u0434\\u0435\\u043d\\u0438\\u0438\",\"\\u0441\\u043e\\u0431\\u0430\\u043a\",\"\\u043f\\u0440\\u0435\\u043e\\u0431\\u043b\\u0430\\u0434\\u0430\\u0435\\u0442\",\"\\u043e\\u0442\\u043a\\u0440\\u044b\\u0442\\u043e\\u0441\\u0442\\u044c\",\"\\u0434\\u0440\\u0443\\u0436\\u0435\\u043b\\u044e\\u0431\\u0438\\u0435\",\"\\u043f\\u043e\\u0441\\u043b\\u0443\\u0448\\u0430\\u043d\\u0438\\u0435\",\"\\u0421\\u043e\\u0431\\u0430\\u043a\\u0438\",\"\\u0443\\u043c\\u0435\\u044e\\u0442\",\"\\u043b\\u0430\\u044f\\u0442\\u044c\",\"\\u0440\\u044b\\u0447\\u0430\\u0442\\u044c\",\"\\u0432\\u044b\\u0442\\u044c\",\"\\u0432\\u044b\\u0440\\u0430\\u0436\\u0430\\u044f\",\"\\u0442\\u0430\\u043a\\u0438\\u043c\",\"\\u043e\\u0431\\u0440\\u0430\\u0437\\u043e\\u043c\",\"\\u0441\\u0432\\u043e\\u0438\",\"\\u044d\\u043c\\u043e\\u0446\\u0438\\u0438\",\"\\u0421\",\"\\u0442\\u043e\\u0447\\u043a\\u0438\",\"\\u0437\\u0440\\u0435\\u043d\\u0438\\u044f\",\"\\u0443\\u0445\\u043e\\u0434\\u0430\",\"\\u043a\\u043e\\u0448\\u043a\\u0438\",\"\\u0441\\u0430\\u043c\\u043e\\u0441\\u0442\\u043e\\u044f\\u0442\\u0435\\u043b\\u044c\\u043d\\u044b\",\"\\u0441\\u0430\\u043c\\u0438\",\"\\u0443\\u0445\\u0430\\u0436\\u0438\\u0432\\u0430\\u044e\\u0442\",\"\\u0441\\u0432\\u043e\\u0435\\u0439\",\"\\u0448\\u0435\\u0440\\u0441\\u0442\\u044c\\u044e\",\"\\u0440\\u0435\\u0434\\u043a\\u043e\",\"\\u043d\\u0443\\u0436\\u0434\\u0430\\u044e\\u0442\\u0441\\u044f\",\"\\u043a\\u0443\\u043f\\u0430\\u043d\\u0438\\u0438\",\"\\u0421\\u043e\\u0431\\u0430\\u043a\\u0438\",\"\\u0442\\u0440\\u0435\\u0431\\u0443\\u044e\\u0442\",\"\\u0440\\u0435\\u0433\\u0443\\u043b\\u044f\\u0440\\u043d\\u043e\\u0433\\u043e\",\"\\u0443\\u0445\\u043e\\u0434\\u0430\",\"\\u0440\\u0430\\u0441\\u0447\\u0435\\u0441\\u044b\\u0432\\u0430\\u043d\\u0438\\u044f\",\"\\u043f\\u0440\\u043e\\u0433\\u0443\\u043b\\u043e\\u043a\",\"\\u0431\\u043e\\u043b\\u044c\\u0448\\u0435\\u0433\\u043e\",\"\\u0432\\u043d\\u0438\\u043c\\u0430\\u043d\\u0438\\u044f\",\"\\u0441\\u0442\\u043e\\u0440\\u043e\\u043d\\u044b\",\"\\u0447\\u0435\\u043b\\u043e\\u0432\\u0435\\u043a\\u0430\",\"\\u041f\\u0438\\u0442\\u0430\\u043d\\u0438\\u0435\",\"\\u0441\\u043e\\u0431\\u0430\\u043a\",\"\\u043a\\u043e\\u0448\\u0435\\u043a\",\"\\u0442\\u0430\\u043a\\u0436\\u0435\",\"\\u043e\\u0442\\u043b\\u0438\\u0447\\u0430\\u0435\\u0442\\u0441\\u044f\",\"\\u0421\\u043e\\u0431\\u0430\\u043a\\u0438\",\"\\u0432\\u0441\\u0435\\u044f\\u0434\\u043d\\u044b\",\"\\u043d\\u0435\\u043e\\u0431\\u0445\\u043e\\u0434\\u0438\\u043c\\u043e\",\"\\u043f\\u043e\\u043b\\u0443\\u0447\\u0430\\u0442\\u044c\",\"\\u0434\\u043e\\u0441\\u0442\\u0430\\u0442\\u043e\\u0447\\u043d\\u043e\\u0435\",\"\\u043a\\u043e\\u043b\\u0438\\u0447\\u0435\\u0441\\u0442\\u0432\\u043e\",\"\\u043c\\u044f\\u0441\\u0430\",\"\\u043a\\u0440\\u0443\\u043f\",\"\\u043e\\u0432\\u043e\\u0449\\u0435\\u0439\",\"\\u041a\\u043e\\u0448\\u043a\\u0438\",\"\\u044f\\u0432\\u043b\\u044f\\u044e\\u0442\\u0441\\u044f\",\"\\u043f\\u0440\\u0435\\u0438\\u043c\\u0443\\u0449\\u0435\\u0441\\u0442\\u0432\\u0435\\u043d\\u043d\\u043e\",\"\\u0445\\u0438\\u0449\\u043d\\u0438\\u043a\\u0430\\u043c\\u0438\",\"\\u043d\\u0443\\u0436\\u0434\\u0430\\u044e\\u0442\\u0441\\u044f\",\"\\u043c\\u044f\\u0441\\u0435\",\"\\u043e\\u0441\\u043d\\u043e\\u0432\\u043d\\u043e\\u043c\",\"\\u0438\\u0441\\u0442\\u043e\\u0447\\u043d\\u0438\\u043a\\u0435\",\"\\u043f\\u0438\\u0449\\u0438\",\"\\u0422\\u0430\\u043a\\u0438\\u043c\",\"\\u043e\\u0431\\u0440\\u0430\\u0437\\u043e\\u043c\",\"\\u043a\\u043e\\u0448\\u043a\\u0438\",\"\\u0441\\u043e\\u0431\\u0430\\u043a\\u0438\",\"\\u0431\\u043b\\u0438\\u0437\\u043a\\u0438\\u0435\",\"\\u0440\\u0430\\u0437\\u043d\\u044b\\u0435\",\"\\u0436\\u0438\\u0432\\u043e\\u0442\\u043d\\u044b\\u0435\",\"\\u043a\\u0430\\u0436\\u0434\\u043e\\u0435\",\"\\u0441\\u0432\\u043e\\u0438\\u043c\\u0438\",\"\\u0443\\u043d\\u0438\\u043a\\u0430\\u043b\\u044c\\u043d\\u044b\\u043c\\u0438\",\"\\u043e\\u0441\\u043e\\u0431\\u0435\\u043d\\u043d\\u043e\\u0441\\u0442\\u044f\\u043c\\u0438\",\"\\u043f\\u043e\\u0432\\u0435\\u0434\\u0435\\u043d\\u0438\\u044f\",\"\\u0443\\u0445\\u043e\\u0434\\u0430\",\"\\u043f\\u0438\\u0442\\u0430\\u043d\\u0438\\u044f\"]]]}}},\"view\":{\"type\":\"object\",\"name\":\"CDSView\",\"id\":\"p1045\",\"attributes\":{\"filter\":{\"type\":\"object\",\"name\":\"AllIndices\",\"id\":\"p1046\"}}},\"glyph\":{\"type\":\"object\",\"name\":\"Scatter\",\"id\":\"p1041\",\"attributes\":{\"x\":{\"type\":\"field\",\"field\":\"x\"},\"y\":{\"type\":\"field\",\"field\":\"y\"},\"size\":{\"type\":\"value\",\"value\":10},\"line_color\":{\"type\":\"field\",\"field\":\"color\"},\"line_alpha\":{\"type\":\"value\",\"value\":0.25},\"fill_color\":{\"type\":\"field\",\"field\":\"color\"},\"fill_alpha\":{\"type\":\"value\",\"value\":0.25},\"hatch_color\":{\"type\":\"field\",\"field\":\"color\"},\"hatch_alpha\":{\"type\":\"value\",\"value\":0.25}}},\"nonselection_glyph\":{\"type\":\"object\",\"name\":\"Scatter\",\"id\":\"p1042\",\"attributes\":{\"x\":{\"type\":\"field\",\"field\":\"x\"},\"y\":{\"type\":\"field\",\"field\":\"y\"},\"size\":{\"type\":\"value\",\"value\":10},\"line_color\":{\"type\":\"field\",\"field\":\"color\"},\"line_alpha\":{\"type\":\"value\",\"value\":0.1},\"fill_color\":{\"type\":\"field\",\"field\":\"color\"},\"fill_alpha\":{\"type\":\"value\",\"value\":0.1},\"hatch_color\":{\"type\":\"field\",\"field\":\"color\"},\"hatch_alpha\":{\"type\":\"value\",\"value\":0.1}}},\"muted_glyph\":{\"type\":\"object\",\"name\":\"Scatter\",\"id\":\"p1043\",\"attributes\":{\"x\":{\"type\":\"field\",\"field\":\"x\"},\"y\":{\"type\":\"field\",\"field\":\"y\"},\"size\":{\"type\":\"value\",\"value\":10},\"line_color\":{\"type\":\"field\",\"field\":\"color\"},\"line_alpha\":{\"type\":\"value\",\"value\":0.2},\"fill_color\":{\"type\":\"field\",\"field\":\"color\"},\"fill_alpha\":{\"type\":\"value\",\"value\":0.2},\"hatch_color\":{\"type\":\"field\",\"field\":\"color\"},\"hatch_alpha\":{\"type\":\"value\",\"value\":0.2}}}}}],\"toolbar\":{\"type\":\"object\",\"name\":\"Toolbar\",\"id\":\"p1012\",\"attributes\":{\"tools\":[{\"type\":\"object\",\"name\":\"PanTool\",\"id\":\"p1025\"},{\"type\":\"object\",\"name\":\"WheelZoomTool\",\"id\":\"p1026\",\"attributes\":{\"renderers\":\"auto\"}},{\"type\":\"object\",\"name\":\"BoxZoomTool\",\"id\":\"p1027\",\"attributes\":{\"overlay\":{\"type\":\"object\",\"name\":\"BoxAnnotation\",\"id\":\"p1028\",\"attributes\":{\"syncable\":false,\"line_color\":\"black\",\"line_alpha\":1.0,\"line_width\":2,\"line_dash\":[4,4],\"fill_color\":\"lightgrey\",\"fill_alpha\":0.5,\"level\":\"overlay\",\"visible\":false,\"left\":{\"type\":\"number\",\"value\":\"nan\"},\"right\":{\"type\":\"number\",\"value\":\"nan\"},\"top\":{\"type\":\"number\",\"value\":\"nan\"},\"bottom\":{\"type\":\"number\",\"value\":\"nan\"},\"left_units\":\"canvas\",\"right_units\":\"canvas\",\"top_units\":\"canvas\",\"bottom_units\":\"canvas\",\"handles\":{\"type\":\"object\",\"name\":\"BoxInteractionHandles\",\"id\":\"p1034\",\"attributes\":{\"all\":{\"type\":\"object\",\"name\":\"AreaVisuals\",\"id\":\"p1033\",\"attributes\":{\"fill_color\":\"white\",\"hover_fill_color\":\"lightgray\"}}}}}}}},{\"type\":\"object\",\"name\":\"SaveTool\",\"id\":\"p1035\"},{\"type\":\"object\",\"name\":\"ResetTool\",\"id\":\"p1036\"},{\"type\":\"object\",\"name\":\"HelpTool\",\"id\":\"p1037\"},{\"type\":\"object\",\"name\":\"HoverTool\",\"id\":\"p1047\",\"attributes\":{\"renderers\":\"auto\",\"tooltips\":[[\"tokens\",\"@tokens\"]]}}],\"active_scroll\":{\"id\":\"p1026\"}}},\"left\":[{\"type\":\"object\",\"name\":\"LinearAxis\",\"id\":\"p1020\",\"attributes\":{\"ticker\":{\"type\":\"object\",\"name\":\"BasicTicker\",\"id\":\"p1021\",\"attributes\":{\"mantissas\":[1,2,5]}},\"formatter\":{\"type\":\"object\",\"name\":\"BasicTickFormatter\",\"id\":\"p1022\"},\"major_label_policy\":{\"type\":\"object\",\"name\":\"AllLabels\",\"id\":\"p1023\"}}}],\"below\":[{\"type\":\"object\",\"name\":\"LinearAxis\",\"id\":\"p1015\",\"attributes\":{\"ticker\":{\"type\":\"object\",\"name\":\"BasicTicker\",\"id\":\"p1016\",\"attributes\":{\"mantissas\":[1,2,5]}},\"formatter\":{\"type\":\"object\",\"name\":\"BasicTickFormatter\",\"id\":\"p1017\"},\"major_label_policy\":{\"type\":\"object\",\"name\":\"AllLabels\",\"id\":\"p1018\"}}}],\"center\":[{\"type\":\"object\",\"name\":\"Grid\",\"id\":\"p1019\",\"attributes\":{\"axis\":{\"id\":\"p1015\"}}},{\"type\":\"object\",\"name\":\"Grid\",\"id\":\"p1024\",\"attributes\":{\"dimension\":1,\"axis\":{\"id\":\"p1020\"}}}]}}]}};\n  const render_items = [{\"docid\":\"ba65bfd0-2060-4a52-b5c3-2a6928f3b9b0\",\"roots\":{\"p1004\":\"daf4f078-44ed-4d04-80e3-26f46efba8c4\"},\"root_ids\":[\"p1004\"]}];\n  void root.Bokeh.embed.embed_items_notebook(docs_json, render_items);\n  }\n  if (root.Bokeh !== undefined) {\n    embed_document(root);\n  } else {\n    let attempts = 0;\n    const timer = setInterval(function(root) {\n      if (root.Bokeh !== undefined) {\n        clearInterval(timer);\n        embed_document(root);\n      } else {\n        attempts++;\n        if (attempts > 100) {\n          clearInterval(timer);\n          console.log(\"Bokeh: ERROR: Unable to run BokehJS code because BokehJS library is missing\");\n        }\n      }\n    }, 10, root)\n  }\n})(window);",
      "application/vnd.bokehjs_exec.v0+json": ""
     },
     "metadata": {
      "application/vnd.bokehjs_exec.v0+json": {
       "id": "p1004"
      }
     },
     "output_type": "display_data"
    },
    {
     "data": {
      "text/html": [
       "<div style=\"display: table;\"><div style=\"display: table-row;\"><div style=\"display: table-cell;\"><b title=\"bokeh.plotting._figure.figure\">figure</b>(</div><div style=\"display: table-cell;\">id&nbsp;=&nbsp;'p1004', <span id=\"p1051\" style=\"cursor: pointer;\">&hellip;)</span></div></div><div class=\"p1050\" style=\"display: none;\"><div style=\"display: table-cell;\"></div><div style=\"display: table-cell;\">above&nbsp;=&nbsp;[],</div></div><div class=\"p1050\" style=\"display: none;\"><div style=\"display: table-cell;\"></div><div style=\"display: table-cell;\">align&nbsp;=&nbsp;'auto',</div></div><div class=\"p1050\" style=\"display: none;\"><div style=\"display: table-cell;\"></div><div style=\"display: table-cell;\">aspect_ratio&nbsp;=&nbsp;None,</div></div><div class=\"p1050\" style=\"display: none;\"><div style=\"display: table-cell;\"></div><div style=\"display: table-cell;\">aspect_scale&nbsp;=&nbsp;1,</div></div><div class=\"p1050\" style=\"display: none;\"><div style=\"display: table-cell;\"></div><div style=\"display: table-cell;\">attribution&nbsp;=&nbsp;[],</div></div><div class=\"p1050\" style=\"display: none;\"><div style=\"display: table-cell;\"></div><div style=\"display: table-cell;\">background_fill_alpha&nbsp;=&nbsp;1.0,</div></div><div class=\"p1050\" style=\"display: none;\"><div style=\"display: table-cell;\"></div><div style=\"display: table-cell;\">background_fill_color&nbsp;=&nbsp;'#ffffff',</div></div><div class=\"p1050\" style=\"display: none;\"><div style=\"display: table-cell;\"></div><div style=\"display: table-cell;\">below&nbsp;=&nbsp;[LinearAxis(id='p1015', ...)],</div></div><div class=\"p1050\" style=\"display: none;\"><div style=\"display: table-cell;\"></div><div style=\"display: table-cell;\">border_fill_alpha&nbsp;=&nbsp;1.0,</div></div><div class=\"p1050\" style=\"display: none;\"><div style=\"display: table-cell;\"></div><div style=\"display: table-cell;\">border_fill_color&nbsp;=&nbsp;'#ffffff',</div></div><div class=\"p1050\" style=\"display: none;\"><div style=\"display: table-cell;\"></div><div style=\"display: table-cell;\">center&nbsp;=&nbsp;[Grid(id='p1019', ...), Grid(id='p1024', ...)],</div></div><div class=\"p1050\" style=\"display: none;\"><div style=\"display: table-cell;\"></div><div style=\"display: table-cell;\">context_menu&nbsp;=&nbsp;None,</div></div><div class=\"p1050\" style=\"display: none;\"><div style=\"display: table-cell;\"></div><div style=\"display: table-cell;\">css_classes&nbsp;=&nbsp;[],</div></div><div class=\"p1050\" style=\"display: none;\"><div style=\"display: table-cell;\"></div><div style=\"display: table-cell;\">css_variables&nbsp;=&nbsp;{},</div></div><div class=\"p1050\" style=\"display: none;\"><div style=\"display: table-cell;\"></div><div style=\"display: table-cell;\">disabled&nbsp;=&nbsp;False,</div></div><div class=\"p1050\" style=\"display: none;\"><div style=\"display: table-cell;\"></div><div style=\"display: table-cell;\">elements&nbsp;=&nbsp;[],</div></div><div class=\"p1050\" style=\"display: none;\"><div style=\"display: table-cell;\"></div><div style=\"display: table-cell;\">extra_x_ranges&nbsp;=&nbsp;{},</div></div><div class=\"p1050\" style=\"display: none;\"><div style=\"display: table-cell;\"></div><div style=\"display: table-cell;\">extra_x_scales&nbsp;=&nbsp;{},</div></div><div class=\"p1050\" style=\"display: none;\"><div style=\"display: table-cell;\"></div><div style=\"display: table-cell;\">extra_y_ranges&nbsp;=&nbsp;{},</div></div><div class=\"p1050\" style=\"display: none;\"><div style=\"display: table-cell;\"></div><div style=\"display: table-cell;\">extra_y_scales&nbsp;=&nbsp;{},</div></div><div class=\"p1050\" style=\"display: none;\"><div style=\"display: table-cell;\"></div><div style=\"display: table-cell;\">flow_mode&nbsp;=&nbsp;'block',</div></div><div class=\"p1050\" style=\"display: none;\"><div style=\"display: table-cell;\"></div><div style=\"display: table-cell;\">frame_align&nbsp;=&nbsp;True,</div></div><div class=\"p1050\" style=\"display: none;\"><div style=\"display: table-cell;\"></div><div style=\"display: table-cell;\">frame_height&nbsp;=&nbsp;None,</div></div><div class=\"p1050\" style=\"display: none;\"><div style=\"display: table-cell;\"></div><div style=\"display: table-cell;\">frame_width&nbsp;=&nbsp;None,</div></div><div class=\"p1050\" style=\"display: none;\"><div style=\"display: table-cell;\"></div><div style=\"display: table-cell;\">height&nbsp;=&nbsp;400,</div></div><div class=\"p1050\" style=\"display: none;\"><div style=\"display: table-cell;\"></div><div style=\"display: table-cell;\">height_policy&nbsp;=&nbsp;'auto',</div></div><div class=\"p1050\" style=\"display: none;\"><div style=\"display: table-cell;\"></div><div style=\"display: table-cell;\">hidpi&nbsp;=&nbsp;True,</div></div><div class=\"p1050\" style=\"display: none;\"><div style=\"display: table-cell;\"></div><div style=\"display: table-cell;\">hold_render&nbsp;=&nbsp;False,</div></div><div class=\"p1050\" style=\"display: none;\"><div style=\"display: table-cell;\"></div><div style=\"display: table-cell;\">js_event_callbacks&nbsp;=&nbsp;{},</div></div><div class=\"p1050\" style=\"display: none;\"><div style=\"display: table-cell;\"></div><div style=\"display: table-cell;\">js_property_callbacks&nbsp;=&nbsp;{},</div></div><div class=\"p1050\" style=\"display: none;\"><div style=\"display: table-cell;\"></div><div style=\"display: table-cell;\">left&nbsp;=&nbsp;[LinearAxis(id='p1020', ...)],</div></div><div class=\"p1050\" style=\"display: none;\"><div style=\"display: table-cell;\"></div><div style=\"display: table-cell;\">lod_factor&nbsp;=&nbsp;10,</div></div><div class=\"p1050\" style=\"display: none;\"><div style=\"display: table-cell;\"></div><div style=\"display: table-cell;\">lod_interval&nbsp;=&nbsp;300,</div></div><div class=\"p1050\" style=\"display: none;\"><div style=\"display: table-cell;\"></div><div style=\"display: table-cell;\">lod_threshold&nbsp;=&nbsp;2000,</div></div><div class=\"p1050\" style=\"display: none;\"><div style=\"display: table-cell;\"></div><div style=\"display: table-cell;\">lod_timeout&nbsp;=&nbsp;500,</div></div><div class=\"p1050\" style=\"display: none;\"><div style=\"display: table-cell;\"></div><div style=\"display: table-cell;\">margin&nbsp;=&nbsp;None,</div></div><div class=\"p1050\" style=\"display: none;\"><div style=\"display: table-cell;\"></div><div style=\"display: table-cell;\">match_aspect&nbsp;=&nbsp;False,</div></div><div class=\"p1050\" style=\"display: none;\"><div style=\"display: table-cell;\"></div><div style=\"display: table-cell;\">max_height&nbsp;=&nbsp;None,</div></div><div class=\"p1050\" style=\"display: none;\"><div style=\"display: table-cell;\"></div><div style=\"display: table-cell;\">max_width&nbsp;=&nbsp;None,</div></div><div class=\"p1050\" style=\"display: none;\"><div style=\"display: table-cell;\"></div><div style=\"display: table-cell;\">min_border&nbsp;=&nbsp;5,</div></div><div class=\"p1050\" style=\"display: none;\"><div style=\"display: table-cell;\"></div><div style=\"display: table-cell;\">min_border_bottom&nbsp;=&nbsp;None,</div></div><div class=\"p1050\" style=\"display: none;\"><div style=\"display: table-cell;\"></div><div style=\"display: table-cell;\">min_border_left&nbsp;=&nbsp;None,</div></div><div class=\"p1050\" style=\"display: none;\"><div style=\"display: table-cell;\"></div><div style=\"display: table-cell;\">min_border_right&nbsp;=&nbsp;None,</div></div><div class=\"p1050\" style=\"display: none;\"><div style=\"display: table-cell;\"></div><div style=\"display: table-cell;\">min_border_top&nbsp;=&nbsp;None,</div></div><div class=\"p1050\" style=\"display: none;\"><div style=\"display: table-cell;\"></div><div style=\"display: table-cell;\">min_height&nbsp;=&nbsp;None,</div></div><div class=\"p1050\" style=\"display: none;\"><div style=\"display: table-cell;\"></div><div style=\"display: table-cell;\">min_width&nbsp;=&nbsp;None,</div></div><div class=\"p1050\" style=\"display: none;\"><div style=\"display: table-cell;\"></div><div style=\"display: table-cell;\">name&nbsp;=&nbsp;None,</div></div><div class=\"p1050\" style=\"display: none;\"><div style=\"display: table-cell;\"></div><div style=\"display: table-cell;\">outline_line_alpha&nbsp;=&nbsp;1.0,</div></div><div class=\"p1050\" style=\"display: none;\"><div style=\"display: table-cell;\"></div><div style=\"display: table-cell;\">outline_line_cap&nbsp;=&nbsp;'butt',</div></div><div class=\"p1050\" style=\"display: none;\"><div style=\"display: table-cell;\"></div><div style=\"display: table-cell;\">outline_line_color&nbsp;=&nbsp;'#e5e5e5',</div></div><div class=\"p1050\" style=\"display: none;\"><div style=\"display: table-cell;\"></div><div style=\"display: table-cell;\">outline_line_dash&nbsp;=&nbsp;[],</div></div><div class=\"p1050\" style=\"display: none;\"><div style=\"display: table-cell;\"></div><div style=\"display: table-cell;\">outline_line_dash_offset&nbsp;=&nbsp;0,</div></div><div class=\"p1050\" style=\"display: none;\"><div style=\"display: table-cell;\"></div><div style=\"display: table-cell;\">outline_line_join&nbsp;=&nbsp;'bevel',</div></div><div class=\"p1050\" style=\"display: none;\"><div style=\"display: table-cell;\"></div><div style=\"display: table-cell;\">outline_line_width&nbsp;=&nbsp;1,</div></div><div class=\"p1050\" style=\"display: none;\"><div style=\"display: table-cell;\"></div><div style=\"display: table-cell;\">output_backend&nbsp;=&nbsp;'canvas',</div></div><div class=\"p1050\" style=\"display: none;\"><div style=\"display: table-cell;\"></div><div style=\"display: table-cell;\">renderers&nbsp;=&nbsp;[GlyphRenderer(id='p1044', ...)],</div></div><div class=\"p1050\" style=\"display: none;\"><div style=\"display: table-cell;\"></div><div style=\"display: table-cell;\">reset_policy&nbsp;=&nbsp;'standard',</div></div><div class=\"p1050\" style=\"display: none;\"><div style=\"display: table-cell;\"></div><div style=\"display: table-cell;\">resizable&nbsp;=&nbsp;False,</div></div><div class=\"p1050\" style=\"display: none;\"><div style=\"display: table-cell;\"></div><div style=\"display: table-cell;\">right&nbsp;=&nbsp;[],</div></div><div class=\"p1050\" style=\"display: none;\"><div style=\"display: table-cell;\"></div><div style=\"display: table-cell;\">sizing_mode&nbsp;=&nbsp;None,</div></div><div class=\"p1050\" style=\"display: none;\"><div style=\"display: table-cell;\"></div><div style=\"display: table-cell;\">styles&nbsp;=&nbsp;{},</div></div><div class=\"p1050\" style=\"display: none;\"><div style=\"display: table-cell;\"></div><div style=\"display: table-cell;\">stylesheets&nbsp;=&nbsp;[],</div></div><div class=\"p1050\" style=\"display: none;\"><div style=\"display: table-cell;\"></div><div style=\"display: table-cell;\">subscribed_events&nbsp;=&nbsp;PropertyValueSet(),</div></div><div class=\"p1050\" style=\"display: none;\"><div style=\"display: table-cell;\"></div><div style=\"display: table-cell;\">syncable&nbsp;=&nbsp;True,</div></div><div class=\"p1050\" style=\"display: none;\"><div style=\"display: table-cell;\"></div><div style=\"display: table-cell;\">tags&nbsp;=&nbsp;[],</div></div><div class=\"p1050\" style=\"display: none;\"><div style=\"display: table-cell;\"></div><div style=\"display: table-cell;\">title&nbsp;=&nbsp;Title(id='p1011', ...),</div></div><div class=\"p1050\" style=\"display: none;\"><div style=\"display: table-cell;\"></div><div style=\"display: table-cell;\">title_location&nbsp;=&nbsp;'above',</div></div><div class=\"p1050\" style=\"display: none;\"><div style=\"display: table-cell;\"></div><div style=\"display: table-cell;\">toolbar&nbsp;=&nbsp;Toolbar(id='p1012', ...),</div></div><div class=\"p1050\" style=\"display: none;\"><div style=\"display: table-cell;\"></div><div style=\"display: table-cell;\">toolbar_inner&nbsp;=&nbsp;False,</div></div><div class=\"p1050\" style=\"display: none;\"><div style=\"display: table-cell;\"></div><div style=\"display: table-cell;\">toolbar_location&nbsp;=&nbsp;'right',</div></div><div class=\"p1050\" style=\"display: none;\"><div style=\"display: table-cell;\"></div><div style=\"display: table-cell;\">toolbar_sticky&nbsp;=&nbsp;True,</div></div><div class=\"p1050\" style=\"display: none;\"><div style=\"display: table-cell;\"></div><div style=\"display: table-cell;\">visible&nbsp;=&nbsp;True,</div></div><div class=\"p1050\" style=\"display: none;\"><div style=\"display: table-cell;\"></div><div style=\"display: table-cell;\">width&nbsp;=&nbsp;600,</div></div><div class=\"p1050\" style=\"display: none;\"><div style=\"display: table-cell;\"></div><div style=\"display: table-cell;\">width_policy&nbsp;=&nbsp;'auto',</div></div><div class=\"p1050\" style=\"display: none;\"><div style=\"display: table-cell;\"></div><div style=\"display: table-cell;\">x_range&nbsp;=&nbsp;DataRange1d(id='p1005', ...),</div></div><div class=\"p1050\" style=\"display: none;\"><div style=\"display: table-cell;\"></div><div style=\"display: table-cell;\">x_scale&nbsp;=&nbsp;LinearScale(id='p1013', ...),</div></div><div class=\"p1050\" style=\"display: none;\"><div style=\"display: table-cell;\"></div><div style=\"display: table-cell;\">y_range&nbsp;=&nbsp;DataRange1d(id='p1006', ...),</div></div><div class=\"p1050\" style=\"display: none;\"><div style=\"display: table-cell;\"></div><div style=\"display: table-cell;\">y_scale&nbsp;=&nbsp;LinearScale(id='p1014', ...))</div></div></div>\n",
       "<script>\n",
       "(function() {\n",
       "  let expanded = false;\n",
       "  const ellipsis = document.getElementById(\"p1051\");\n",
       "  ellipsis.addEventListener(\"click\", function() {\n",
       "    const rows = document.getElementsByClassName(\"p1050\");\n",
       "    for (let i = 0; i < rows.length; i++) {\n",
       "      const el = rows[i];\n",
       "      el.style.display = expanded ? \"none\" : \"table-row\";\n",
       "    }\n",
       "    ellipsis.innerHTML = expanded ? \"&hellip;)\" : \"&lsaquo;&lsaquo;&lsaquo;\";\n",
       "    expanded = !expanded;\n",
       "  });\n",
       "})();\n",
       "</script>\n"
      ],
      "text/plain": [
       "figure(id='p1004', ...)"
      ]
     },
     "execution_count": 24,
     "metadata": {},
     "output_type": "execute_result"
    }
   ],
   "source": [
    "import numpy as np\n",
    "import umap\n",
    "\n",
    "unique_tokens = list(word_to_id.keys())\n",
    "# Получаем эмбеддинги для каждого токена\n",
    "embeddings = np.array([get_embedding(model, token) for token in unique_tokens])\n",
    "\n",
    "# Уменьшаем размерность эмбеддингов до 2-х измерений с помощью UMAP\n",
    "umap_reducer = umap.UMAP(n_components=2, random_state=42)\n",
    "embedding_2d = umap_reducer.fit_transform(embeddings)\n",
    "\n",
    "draw_vectors(embedding_2d[:, 0], embedding_2d[:, 1], tokens=tokens)"
   ]
  },
  {
   "cell_type": "code",
   "execution_count": null,
   "metadata": {},
   "outputs": [],
   "source": []
  }
 ],
 "metadata": {
  "kernelspec": {
   "display_name": "nlp_course",
   "language": "python",
   "name": "python3"
  },
  "language_info": {
   "codemirror_mode": {
    "name": "ipython",
    "version": 3
   },
   "file_extension": ".py",
   "mimetype": "text/x-python",
   "name": "python",
   "nbconvert_exporter": "python",
   "pygments_lexer": "ipython3",
   "version": "3.12.9"
  }
 },
 "nbformat": 4,
 "nbformat_minor": 2
}
